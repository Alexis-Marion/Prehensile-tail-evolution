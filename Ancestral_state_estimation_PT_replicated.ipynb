{
 "cells": [
  {
   "cell_type": "markdown",
   "metadata": {},
   "source": [
    "# Testing the correlation between discrete traits"
   ]
  },
  {
   "cell_type": "markdown",
   "metadata": {},
   "source": [
    "### Loading library"
   ]
  },
  {
   "cell_type": "code",
   "execution_count": 12,
   "metadata": {
    "scrolled": true
   },
   "outputs": [
    {
     "name": "stderr",
     "output_type": "stream",
     "text": [
      "\n",
      "Attachement du package : ‘TreeTools’\n",
      "\n",
      "\n",
      "L'objet suivant est masqué depuis ‘package:ggtree’:\n",
      "\n",
      "    MRCA\n",
      "\n",
      "\n",
      "L'objet suivant est masqué depuis ‘package:phytools’:\n",
      "\n",
      "    as.multiPhylo\n",
      "\n",
      "\n"
     ]
    }
   ],
   "source": [
    "library(\"corHMM\")\n",
    "library(\"mclust\")\n",
    "library(\"stringr\")\n",
    "library(\"phytools\")\n",
    "library(\"qpcR\")\n",
    "library(\"secsse\")\n",
    "library(\"ggtree\")\n",
    "library(\"RColorBrewer\")\n",
    "library(\"ggplot2\")\n",
    "library(\"ggpmisc\")\n",
    "library(\"TreeTools\")"
   ]
  },
  {
   "cell_type": "markdown",
   "metadata": {},
   "source": [
    "### Loading data"
   ]
  },
  {
   "cell_type": "code",
   "execution_count": 7,
   "metadata": {},
   "outputs": [],
   "source": [
    "df<-read.csv(\"Code_P_Muridae.tsv\", sep=\"\\t\", header = TRUE) # omit sep =\"\\t\" for .csv files\n",
    "multi_phy<-read.tree(\"MURID_morpho_out_TreeDist.tre\")"
   ]
  },
  {
   "cell_type": "code",
   "execution_count": 21,
   "metadata": {},
   "outputs": [],
   "source": [
    "tr_lst<-c()\n",
    "for (i in 1:length(multi_phy)){\n",
    "    tr_lst[[i]]<-AddTip(multi_phy[[i]],\n",
    "  where = which(phy$tip.label== \"Hyomys_goliath\"),\n",
    "  label = \"Hyomys_goliath2\",\n",
    "  edgeLength = 0.1,\n",
    "  lengthBelow = 0.1\n",
    ")\n",
    "}"
   ]
  },
  {
   "cell_type": "markdown",
   "metadata": {},
   "source": [
    "### Cleaning and preparing data"
   ]
  },
  {
   "cell_type": "code",
   "execution_count": 24,
   "metadata": {},
   "outputs": [],
   "source": [
    "states_traits<-df[,c(1,2)]\n",
    "colnames(states_traits)<-c(\"Species\", \"Cat\")\n",
    "states_traits[is.na(states_traits)]<-\"?\""
   ]
  },
  {
   "cell_type": "code",
   "execution_count": 28,
   "metadata": {},
   "outputs": [
    {
     "name": "stdout",
     "output_type": "stream",
     "text": [
      "State distribution in data:\n",
      "States:\t1\t1&2\t2\t?\t\n",
      "Counts:\t42\t1\t20\t2\t\n"
     ]
    },
    {
     "name": "stderr",
     "output_type": "stream",
     "text": [
      "Warning message in rate.cat.set.corHMM.JDB(phy = phy, data = input.data, rate.cat = rate.cat, :\n",
      "“NAs introduits lors de la conversion automatique”\n",
      "Warning message in rate.cat.set.corHMM.JDB(phy = phy, data = input.data, rate.cat = rate.cat, :\n",
      "“NAs introduits lors de la conversion automatique”\n"
     ]
    },
    {
     "name": "stdout",
     "output_type": "stream",
     "text": [
      "Beginning thorough optimization search -- performing 0 random restarts \n",
      "Finished. Inferring ancestral states using marginal reconstruction. \n"
     ]
    },
    {
     "name": "stderr",
     "output_type": "stream",
     "text": [
      "Warning message in rate.cat.set.corHMM.JDB(phy = phy, data = input.data, rate.cat = rate.cat, :\n",
      "“NAs introduits lors de la conversion automatique”\n",
      "Warning message in rate.cat.set.corHMM.JDB(phy = phy, data = input.data, rate.cat = rate.cat, :\n",
      "“NAs introduits lors de la conversion automatique”\n",
      "Warning message in corHMM(phy, states_traits, rate.cat = 1, rate.mat = NULL, model = \"ER\", :\n",
      "“corHMM may have failed to optimize correctly, consider checking inputs and running again.”\n"
     ]
    },
    {
     "name": "stdout",
     "output_type": "stream",
     "text": [
      "State distribution in data:\n",
      "States:\t1\t1&2\t2\t?\t\n",
      "Counts:\t42\t1\t20\t2\t\n"
     ]
    },
    {
     "name": "stderr",
     "output_type": "stream",
     "text": [
      "Warning message in rate.cat.set.corHMM.JDB(phy = phy, data = input.data, rate.cat = rate.cat, :\n",
      "“NAs introduits lors de la conversion automatique”\n",
      "Warning message in rate.cat.set.corHMM.JDB(phy = phy, data = input.data, rate.cat = rate.cat, :\n",
      "“NAs introduits lors de la conversion automatique”\n"
     ]
    },
    {
     "name": "stdout",
     "output_type": "stream",
     "text": [
      "Beginning thorough optimization search -- performing 0 random restarts \n",
      "Finished. Inferring ancestral states using marginal reconstruction. \n"
     ]
    },
    {
     "name": "stderr",
     "output_type": "stream",
     "text": [
      "Warning message in rate.cat.set.corHMM.JDB(phy = phy, data = input.data, rate.cat = rate.cat, :\n",
      "“NAs introduits lors de la conversion automatique”\n",
      "Warning message in rate.cat.set.corHMM.JDB(phy = phy, data = input.data, rate.cat = rate.cat, :\n",
      "“NAs introduits lors de la conversion automatique”\n",
      "Warning message in corHMM(phy, states_traits, rate.cat = 1, rate.mat = NULL, model = \"ARD\", :\n",
      "“corHMM may have failed to optimize correctly, consider checking inputs and running again.”\n"
     ]
    },
    {
     "name": "stdout",
     "output_type": "stream",
     "text": [
      "State distribution in data:\n",
      "States:\t1\t1&2\t2\t?\t\n",
      "Counts:\t42\t1\t20\t2\t\n"
     ]
    },
    {
     "name": "stderr",
     "output_type": "stream",
     "text": [
      "Warning message in rate.cat.set.corHMM.JDB(phy = phy, data = input.data, rate.cat = rate.cat, :\n",
      "“NAs introduits lors de la conversion automatique”\n",
      "Warning message in rate.cat.set.corHMM.JDB(phy = phy, data = input.data, rate.cat = rate.cat, :\n",
      "“NAs introduits lors de la conversion automatique”\n"
     ]
    },
    {
     "name": "stdout",
     "output_type": "stream",
     "text": [
      "Beginning thorough optimization search -- performing 0 random restarts \n",
      "Finished. Inferring ancestral states using marginal reconstruction. \n"
     ]
    },
    {
     "name": "stderr",
     "output_type": "stream",
     "text": [
      "Warning message in rate.cat.set.corHMM.JDB(phy = phy, data = input.data, rate.cat = rate.cat, :\n",
      "“NAs introduits lors de la conversion automatique”\n",
      "Warning message in rate.cat.set.corHMM.JDB(phy = phy, data = input.data, rate.cat = rate.cat, :\n",
      "“NAs introduits lors de la conversion automatique”\n",
      "Warning message in corHMM(phy, states_traits, rate.cat = 2, rate.mat = NULL, model = \"ER\", :\n",
      "“corHMM may have failed to optimize correctly, consider checking inputs and running again.”\n"
     ]
    },
    {
     "name": "stdout",
     "output_type": "stream",
     "text": [
      "State distribution in data:\n",
      "States:\t1\t1&2\t2\t?\t\n",
      "Counts:\t42\t1\t20\t2\t\n"
     ]
    },
    {
     "name": "stderr",
     "output_type": "stream",
     "text": [
      "Warning message in rate.cat.set.corHMM.JDB(phy = phy, data = input.data, rate.cat = rate.cat, :\n",
      "“NAs introduits lors de la conversion automatique”\n",
      "Warning message in rate.cat.set.corHMM.JDB(phy = phy, data = input.data, rate.cat = rate.cat, :\n",
      "“NAs introduits lors de la conversion automatique”\n"
     ]
    },
    {
     "name": "stdout",
     "output_type": "stream",
     "text": [
      "Beginning thorough optimization search -- performing 0 random restarts \n",
      "Finished. Inferring ancestral states using marginal reconstruction. \n"
     ]
    },
    {
     "name": "stderr",
     "output_type": "stream",
     "text": [
      "Warning message in rate.cat.set.corHMM.JDB(phy = phy, data = input.data, rate.cat = rate.cat, :\n",
      "“NAs introduits lors de la conversion automatique”\n",
      "Warning message in rate.cat.set.corHMM.JDB(phy = phy, data = input.data, rate.cat = rate.cat, :\n",
      "“NAs introduits lors de la conversion automatique”\n",
      "Warning message in corHMM(phy, states_traits, rate.cat = 2, rate.mat = NULL, model = \"ARD\", :\n",
      "“corHMM may have failed to optimize correctly, consider checking inputs and running again.”\n"
     ]
    },
    {
     "name": "stdout",
     "output_type": "stream",
     "text": [
      "State distribution in data:\n",
      "States:\t1\t1&2\t2\t?\t\n",
      "Counts:\t42\t1\t20\t2\t\n"
     ]
    },
    {
     "name": "stderr",
     "output_type": "stream",
     "text": [
      "Warning message in rate.cat.set.corHMM.JDB(phy = phy, data = input.data, rate.cat = rate.cat, :\n",
      "“NAs introduits lors de la conversion automatique”\n",
      "Warning message in rate.cat.set.corHMM.JDB(phy = phy, data = input.data, rate.cat = rate.cat, :\n",
      "“NAs introduits lors de la conversion automatique”\n"
     ]
    },
    {
     "name": "stdout",
     "output_type": "stream",
     "text": [
      "Beginning thorough optimization search -- performing 0 random restarts \n",
      "Finished. Inferring ancestral states using marginal reconstruction. \n"
     ]
    },
    {
     "name": "stderr",
     "output_type": "stream",
     "text": [
      "Warning message in rate.cat.set.corHMM.JDB(phy = phy, data = input.data, rate.cat = rate.cat, :\n",
      "“NAs introduits lors de la conversion automatique”\n",
      "Warning message in rate.cat.set.corHMM.JDB(phy = phy, data = input.data, rate.cat = rate.cat, :\n",
      "“NAs introduits lors de la conversion automatique”\n",
      "Warning message in corHMM(phy, states_traits, rate.cat = 3, rate.mat = NULL, model = \"ER\", :\n",
      "“corHMM may have failed to optimize correctly, consider checking inputs and running again.”\n"
     ]
    },
    {
     "name": "stdout",
     "output_type": "stream",
     "text": [
      "State distribution in data:\n",
      "States:\t1\t1&2\t2\t?\t\n",
      "Counts:\t42\t1\t20\t2\t\n"
     ]
    },
    {
     "name": "stderr",
     "output_type": "stream",
     "text": [
      "Warning message in rate.cat.set.corHMM.JDB(phy = phy, data = input.data, rate.cat = rate.cat, :\n",
      "“NAs introduits lors de la conversion automatique”\n",
      "Warning message in rate.cat.set.corHMM.JDB(phy = phy, data = input.data, rate.cat = rate.cat, :\n",
      "“NAs introduits lors de la conversion automatique”\n"
     ]
    },
    {
     "name": "stdout",
     "output_type": "stream",
     "text": [
      "Beginning thorough optimization search -- performing 0 random restarts \n",
      "Finished. Inferring ancestral states using marginal reconstruction. \n"
     ]
    },
    {
     "name": "stderr",
     "output_type": "stream",
     "text": [
      "Warning message in rate.cat.set.corHMM.JDB(phy = phy, data = input.data, rate.cat = rate.cat, :\n",
      "“NAs introduits lors de la conversion automatique”\n",
      "Warning message in rate.cat.set.corHMM.JDB(phy = phy, data = input.data, rate.cat = rate.cat, :\n",
      "“NAs introduits lors de la conversion automatique”\n",
      "Warning message in corHMM(phy, states_traits, rate.cat = 3, rate.mat = NULL, model = \"ARD\", :\n",
      "“corHMM may have failed to optimize correctly, consider checking inputs and running again.”\n"
     ]
    },
    {
     "name": "stdout",
     "output_type": "stream",
     "text": [
      "State distribution in data:\n",
      "States:\t1\t1&2\t2\t?\t\n",
      "Counts:\t42\t1\t20\t2\t\n"
     ]
    },
    {
     "name": "stderr",
     "output_type": "stream",
     "text": [
      "Warning message in rate.cat.set.corHMM.JDB(phy = phy, data = input.data, rate.cat = rate.cat, :\n",
      "“NAs introduits lors de la conversion automatique”\n",
      "Warning message in rate.cat.set.corHMM.JDB(phy = phy, data = input.data, rate.cat = rate.cat, :\n",
      "“NAs introduits lors de la conversion automatique”\n"
     ]
    },
    {
     "name": "stdout",
     "output_type": "stream",
     "text": [
      "Beginning thorough optimization search -- performing 0 random restarts \n",
      "Finished. Inferring ancestral states using marginal reconstruction. \n"
     ]
    },
    {
     "name": "stderr",
     "output_type": "stream",
     "text": [
      "Warning message in rate.cat.set.corHMM.JDB(phy = phy, data = input.data, rate.cat = rate.cat, :\n",
      "“NAs introduits lors de la conversion automatique”\n",
      "Warning message in rate.cat.set.corHMM.JDB(phy = phy, data = input.data, rate.cat = rate.cat, :\n",
      "“NAs introduits lors de la conversion automatique”\n",
      "Warning message in corHMM(phy, states_traits, rate.cat = 1, rate.mat = NULL, model = \"ER\", :\n",
      "“corHMM may have failed to optimize correctly, consider checking inputs and running again.”\n"
     ]
    },
    {
     "name": "stdout",
     "output_type": "stream",
     "text": [
      "State distribution in data:\n",
      "States:\t1\t1&2\t2\t?\t\n",
      "Counts:\t42\t1\t20\t2\t\n"
     ]
    },
    {
     "name": "stderr",
     "output_type": "stream",
     "text": [
      "Warning message in rate.cat.set.corHMM.JDB(phy = phy, data = input.data, rate.cat = rate.cat, :\n",
      "“NAs introduits lors de la conversion automatique”\n",
      "Warning message in rate.cat.set.corHMM.JDB(phy = phy, data = input.data, rate.cat = rate.cat, :\n",
      "“NAs introduits lors de la conversion automatique”\n"
     ]
    },
    {
     "name": "stdout",
     "output_type": "stream",
     "text": [
      "Beginning thorough optimization search -- performing 0 random restarts \n",
      "Finished. Inferring ancestral states using marginal reconstruction. \n"
     ]
    },
    {
     "name": "stderr",
     "output_type": "stream",
     "text": [
      "Warning message in rate.cat.set.corHMM.JDB(phy = phy, data = input.data, rate.cat = rate.cat, :\n",
      "“NAs introduits lors de la conversion automatique”\n",
      "Warning message in rate.cat.set.corHMM.JDB(phy = phy, data = input.data, rate.cat = rate.cat, :\n",
      "“NAs introduits lors de la conversion automatique”\n",
      "Warning message in corHMM(phy, states_traits, rate.cat = 1, rate.mat = NULL, model = \"ARD\", :\n",
      "“corHMM may have failed to optimize correctly, consider checking inputs and running again.”\n"
     ]
    },
    {
     "name": "stdout",
     "output_type": "stream",
     "text": [
      "State distribution in data:\n",
      "States:\t1\t1&2\t2\t?\t\n",
      "Counts:\t42\t1\t20\t2\t\n"
     ]
    },
    {
     "name": "stderr",
     "output_type": "stream",
     "text": [
      "Warning message in rate.cat.set.corHMM.JDB(phy = phy, data = input.data, rate.cat = rate.cat, :\n",
      "“NAs introduits lors de la conversion automatique”\n",
      "Warning message in rate.cat.set.corHMM.JDB(phy = phy, data = input.data, rate.cat = rate.cat, :\n",
      "“NAs introduits lors de la conversion automatique”\n"
     ]
    },
    {
     "name": "stdout",
     "output_type": "stream",
     "text": [
      "Beginning thorough optimization search -- performing 0 random restarts \n",
      "Finished. Inferring ancestral states using marginal reconstruction. \n"
     ]
    },
    {
     "name": "stderr",
     "output_type": "stream",
     "text": [
      "Warning message in rate.cat.set.corHMM.JDB(phy = phy, data = input.data, rate.cat = rate.cat, :\n",
      "“NAs introduits lors de la conversion automatique”\n",
      "Warning message in rate.cat.set.corHMM.JDB(phy = phy, data = input.data, rate.cat = rate.cat, :\n",
      "“NAs introduits lors de la conversion automatique”\n",
      "Warning message in corHMM(phy, states_traits, rate.cat = 2, rate.mat = NULL, model = \"ER\", :\n",
      "“corHMM may have failed to optimize correctly, consider checking inputs and running again.”\n"
     ]
    },
    {
     "name": "stdout",
     "output_type": "stream",
     "text": [
      "State distribution in data:\n",
      "States:\t1\t1&2\t2\t?\t\n",
      "Counts:\t42\t1\t20\t2\t\n"
     ]
    },
    {
     "name": "stderr",
     "output_type": "stream",
     "text": [
      "Warning message in rate.cat.set.corHMM.JDB(phy = phy, data = input.data, rate.cat = rate.cat, :\n",
      "“NAs introduits lors de la conversion automatique”\n",
      "Warning message in rate.cat.set.corHMM.JDB(phy = phy, data = input.data, rate.cat = rate.cat, :\n",
      "“NAs introduits lors de la conversion automatique”\n"
     ]
    },
    {
     "name": "stdout",
     "output_type": "stream",
     "text": [
      "Beginning thorough optimization search -- performing 0 random restarts \n",
      "Finished. Inferring ancestral states using marginal reconstruction. \n"
     ]
    },
    {
     "name": "stderr",
     "output_type": "stream",
     "text": [
      "Warning message in rate.cat.set.corHMM.JDB(phy = phy, data = input.data, rate.cat = rate.cat, :\n",
      "“NAs introduits lors de la conversion automatique”\n",
      "Warning message in rate.cat.set.corHMM.JDB(phy = phy, data = input.data, rate.cat = rate.cat, :\n",
      "“NAs introduits lors de la conversion automatique”\n",
      "Warning message in corHMM(phy, states_traits, rate.cat = 2, rate.mat = NULL, model = \"ARD\", :\n",
      "“corHMM may have failed to optimize correctly, consider checking inputs and running again.”\n"
     ]
    },
    {
     "name": "stdout",
     "output_type": "stream",
     "text": [
      "State distribution in data:\n",
      "States:\t1\t1&2\t2\t?\t\n",
      "Counts:\t42\t1\t20\t2\t\n"
     ]
    },
    {
     "name": "stderr",
     "output_type": "stream",
     "text": [
      "Warning message in rate.cat.set.corHMM.JDB(phy = phy, data = input.data, rate.cat = rate.cat, :\n",
      "“NAs introduits lors de la conversion automatique”\n",
      "Warning message in rate.cat.set.corHMM.JDB(phy = phy, data = input.data, rate.cat = rate.cat, :\n",
      "“NAs introduits lors de la conversion automatique”\n"
     ]
    },
    {
     "name": "stdout",
     "output_type": "stream",
     "text": [
      "Beginning thorough optimization search -- performing 0 random restarts \n",
      "Finished. Inferring ancestral states using marginal reconstruction. \n"
     ]
    },
    {
     "name": "stderr",
     "output_type": "stream",
     "text": [
      "Warning message in rate.cat.set.corHMM.JDB(phy = phy, data = input.data, rate.cat = rate.cat, :\n",
      "“NAs introduits lors de la conversion automatique”\n",
      "Warning message in rate.cat.set.corHMM.JDB(phy = phy, data = input.data, rate.cat = rate.cat, :\n",
      "“NAs introduits lors de la conversion automatique”\n",
      "Warning message in corHMM(phy, states_traits, rate.cat = 3, rate.mat = NULL, model = \"ER\", :\n",
      "“corHMM may have failed to optimize correctly, consider checking inputs and running again.”\n"
     ]
    },
    {
     "name": "stdout",
     "output_type": "stream",
     "text": [
      "State distribution in data:\n",
      "States:\t1\t1&2\t2\t?\t\n",
      "Counts:\t42\t1\t20\t2\t\n"
     ]
    },
    {
     "name": "stderr",
     "output_type": "stream",
     "text": [
      "Warning message in rate.cat.set.corHMM.JDB(phy = phy, data = input.data, rate.cat = rate.cat, :\n",
      "“NAs introduits lors de la conversion automatique”\n",
      "Warning message in rate.cat.set.corHMM.JDB(phy = phy, data = input.data, rate.cat = rate.cat, :\n",
      "“NAs introduits lors de la conversion automatique”\n"
     ]
    },
    {
     "name": "stdout",
     "output_type": "stream",
     "text": [
      "Beginning thorough optimization search -- performing 0 random restarts \n",
      "Finished. Inferring ancestral states using marginal reconstruction. \n"
     ]
    },
    {
     "name": "stderr",
     "output_type": "stream",
     "text": [
      "Warning message in rate.cat.set.corHMM.JDB(phy = phy, data = input.data, rate.cat = rate.cat, :\n",
      "“NAs introduits lors de la conversion automatique”\n",
      "Warning message in rate.cat.set.corHMM.JDB(phy = phy, data = input.data, rate.cat = rate.cat, :\n",
      "“NAs introduits lors de la conversion automatique”\n",
      "Warning message in corHMM(phy, states_traits, rate.cat = 3, rate.mat = NULL, model = \"ARD\", :\n",
      "“corHMM may have failed to optimize correctly, consider checking inputs and running again.”\n"
     ]
    },
    {
     "name": "stdout",
     "output_type": "stream",
     "text": [
      "State distribution in data:\n",
      "States:\t1\t1&2\t2\t?\t\n",
      "Counts:\t42\t1\t20\t2\t\n"
     ]
    },
    {
     "name": "stderr",
     "output_type": "stream",
     "text": [
      "Warning message in rate.cat.set.corHMM.JDB(phy = phy, data = input.data, rate.cat = rate.cat, :\n",
      "“NAs introduits lors de la conversion automatique”\n",
      "Warning message in rate.cat.set.corHMM.JDB(phy = phy, data = input.data, rate.cat = rate.cat, :\n",
      "“NAs introduits lors de la conversion automatique”\n"
     ]
    },
    {
     "name": "stdout",
     "output_type": "stream",
     "text": [
      "Beginning thorough optimization search -- performing 0 random restarts \n",
      "Finished. Inferring ancestral states using marginal reconstruction. \n"
     ]
    },
    {
     "name": "stderr",
     "output_type": "stream",
     "text": [
      "Warning message in rate.cat.set.corHMM.JDB(phy = phy, data = input.data, rate.cat = rate.cat, :\n",
      "“NAs introduits lors de la conversion automatique”\n",
      "Warning message in rate.cat.set.corHMM.JDB(phy = phy, data = input.data, rate.cat = rate.cat, :\n",
      "“NAs introduits lors de la conversion automatique”\n",
      "Warning message in corHMM(phy, states_traits, rate.cat = 1, rate.mat = NULL, model = \"ER\", :\n",
      "“corHMM may have failed to optimize correctly, consider checking inputs and running again.”\n"
     ]
    },
    {
     "name": "stdout",
     "output_type": "stream",
     "text": [
      "State distribution in data:\n",
      "States:\t1\t1&2\t2\t?\t\n",
      "Counts:\t42\t1\t20\t2\t\n"
     ]
    },
    {
     "name": "stderr",
     "output_type": "stream",
     "text": [
      "Warning message in rate.cat.set.corHMM.JDB(phy = phy, data = input.data, rate.cat = rate.cat, :\n",
      "“NAs introduits lors de la conversion automatique”\n",
      "Warning message in rate.cat.set.corHMM.JDB(phy = phy, data = input.data, rate.cat = rate.cat, :\n",
      "“NAs introduits lors de la conversion automatique”\n"
     ]
    },
    {
     "name": "stdout",
     "output_type": "stream",
     "text": [
      "Beginning thorough optimization search -- performing 0 random restarts \n",
      "Finished. Inferring ancestral states using marginal reconstruction. \n"
     ]
    },
    {
     "name": "stderr",
     "output_type": "stream",
     "text": [
      "Warning message in rate.cat.set.corHMM.JDB(phy = phy, data = input.data, rate.cat = rate.cat, :\n",
      "“NAs introduits lors de la conversion automatique”\n",
      "Warning message in rate.cat.set.corHMM.JDB(phy = phy, data = input.data, rate.cat = rate.cat, :\n",
      "“NAs introduits lors de la conversion automatique”\n",
      "Warning message in corHMM(phy, states_traits, rate.cat = 1, rate.mat = NULL, model = \"ARD\", :\n",
      "“corHMM may have failed to optimize correctly, consider checking inputs and running again.”\n"
     ]
    },
    {
     "name": "stdout",
     "output_type": "stream",
     "text": [
      "State distribution in data:\n",
      "States:\t1\t1&2\t2\t?\t\n",
      "Counts:\t42\t1\t20\t2\t\n"
     ]
    },
    {
     "name": "stderr",
     "output_type": "stream",
     "text": [
      "Warning message in rate.cat.set.corHMM.JDB(phy = phy, data = input.data, rate.cat = rate.cat, :\n",
      "“NAs introduits lors de la conversion automatique”\n",
      "Warning message in rate.cat.set.corHMM.JDB(phy = phy, data = input.data, rate.cat = rate.cat, :\n",
      "“NAs introduits lors de la conversion automatique”\n"
     ]
    }
   ],
   "source": [
    "for (i in 1:1000){\n",
    "    \n",
    "phy<-multi_phy[[i]]\n",
    "\n",
    "phy$tip.label<-paste(str_split_fixed(phy$tip.label, \"_\", 3)[,1], str_split_fixed(phy$tip.label, \"_\", 3)[,2], sep =\"_\")\n",
    "phy<-AddTip(phy, where = which(phy$tip.label== \"Hyomys_goliath\"), label = \"Hyomys_goliath2\", edgeLength = 0.1, lengthBelow = 0.1)\n",
    "phy$tip.label[phy$tip.label=='Taeromys_punicans']<-'Taeromys_arcuatus'\n",
    "phy$tip.label[phy$tip.label=='Lenothrix_canus']<-'Lenothrix_cana'\n",
    "phy$tip.label[phy$tip.label=='Hydromys_obi']<-'Hydromys_chrisogaster'\n",
    "phy$tip.label[phy$tip.label=='Leptomys_elegans']<-'Leptomys_sp'\n",
    "phy$tip.label[phy$tip.label=='Microhydromys_richardsoni']<-'Microhydromys_sp'\n",
    "phy$tip.label[phy$tip.label=='Mesembriomys_gouldii']<-'Mesembryomys_gouldii'\n",
    "phy$tip.label[phy$tip.label=='Solomys_sapientis']<-'Solomys_sapentis'\n",
    "phy$tip.label[phy$tip.label=='Paramelomys_levipes']<-'Paramelomys_sp'\n",
    "phy$tip.label[phy$tip.label=='Haeromys_minahassaeZ23000']<-'Haeromys_minahassae'\n",
    "phy$tip.label[phy$tip.label=='Thallomys_sp']<-'Thallomys_spce'\n",
    "phy$tip.label[phy$tip.label=='Pithecheir_chim']<-'Pithecheir_melanurus'\n",
    "\n",
    "### One rate models\n",
    "\n",
    "### Model 1 : equal rates\n",
    "\n",
    "pt_1_eq<-corHMM(phy, states_traits, rate.cat = 1, rate.mat=NULL, model = \"ER\", node.states = \"marginal\",\n",
    "fixed.nodes=FALSE, p=NULL, root.p=\"yang\", ip=NULL, nstarts=0, n.cores=5,\n",
    "get.tip.states = FALSE, lewis.asc.bias = FALSE, collapse = TRUE, lower.bound = 1e-9,\n",
    "upper.bound = 100, opts=NULL)\n",
    "\n",
    "### Model 2 : all rates differ\n",
    "\n",
    "pt_1_ard<-corHMM(phy, states_traits, rate.cat = 1, rate.mat=NULL, model = \"ARD\", node.states = \"marginal\",\n",
    "fixed.nodes=FALSE, p=NULL, root.p=\"yang\", ip=NULL, nstarts=0, n.cores=5,\n",
    "get.tip.states = FALSE, lewis.asc.bias = FALSE, collapse = TRUE, lower.bound = 1e-9,\n",
    "upper.bound = 100, opts=NULL)\n",
    "\n",
    "### Model 1 : equal rates\n",
    "\n",
    "pt_2_eq<-corHMM(phy, states_traits, rate.cat = 2, rate.mat=NULL, model = \"ER\", node.states = \"marginal\",\n",
    "fixed.nodes=FALSE, p=NULL, root.p=\"yang\", ip=NULL, nstarts=0, n.cores=5,\n",
    "get.tip.states = FALSE, lewis.asc.bias = FALSE, collapse = TRUE, lower.bound = 1e-9,\n",
    "upper.bound = 100, opts=NULL)\n",
    "\n",
    "### Model 2 : all rates differ\n",
    "\n",
    "pt_2_ard<-corHMM(phy, states_traits, rate.cat = 2, rate.mat=NULL, model = \"ARD\", node.states = \"marginal\",\n",
    "fixed.nodes=FALSE, p=NULL, root.p=\"yang\", ip=NULL, nstarts=0, n.cores=5,\n",
    "get.tip.states = FALSE, lewis.asc.bias = FALSE, collapse = TRUE, lower.bound = 1e-9,\n",
    "upper.bound = 100, opts=NULL)\n",
    "\n",
    "### Model 1 : equal rates\n",
    "\n",
    "pt_3_eq<-corHMM(phy, states_traits, rate.cat = 3, rate.mat=NULL, model = \"ER\", node.states = \"marginal\",\n",
    "fixed.nodes=FALSE, p=NULL, root.p=\"yang\", ip=NULL, nstarts=0, n.cores=5,\n",
    "get.tip.states = FALSE, lewis.asc.bias = FALSE, collapse = TRUE, lower.bound = 1e-9,\n",
    "upper.bound = 100, opts=NULL)\n",
    "\n",
    "### Model 2 : all rates differ\n",
    "\n",
    "pt_3_ard<-corHMM(phy, states_traits, rate.cat = 3, rate.mat=NULL, model = \"ARD\", node.states = \"marginal\",\n",
    "fixed.nodes=FALSE, p=NULL, root.p=\"yang\", ip=NULL, nstarts=0, n.cores=5,\n",
    "get.tip.states = FALSE, lewis.asc.bias = FALSE, collapse = TRUE, lower.bound = 1e-9,\n",
    "upper.bound = 100, opts=NULL)\n",
    "\n",
    "df_trait<-data.frame(cbind(c(pt_1_eq$AICc,  pt_1_ard$AICc,\n",
    "                          pt_2_eq$AICc, pt_2_ard$AICc,\n",
    "                          pt_3_eq$AICc,  pt_3_ard$AICc),\n",
    "                akaike.weights(c(pt_1_eq$AICc, pt_1_ard$AICc,\n",
    "                          pt_2_eq$AICc, pt_2_ard$AICc,\n",
    "                          pt_3_eq$AICc,  pt_3_ard$AICc))$deltaAIC,\n",
    "                akaike.weights(c(pt_1_eq$AICc, pt_1_ard$AICc,\n",
    "                          pt_2_eq$AICc, pt_2_ard$AICc, \n",
    "                          pt_3_eq$AICc, pt_3_ard$AICc))$weights,\n",
    "                c(\n",
    "(max(as.vector(pt_1_eq$index.mat)[!is.na(as.vector(pt_1_eq$index.mat))])), (max(as.vector(pt_1_ard$index.mat)[!is.na(as.vector(pt_1_ard$index.mat))])),\n",
    "(max(as.vector(pt_2_eq$index.mat)[!is.na(as.vector(pt_2_eq$index.mat))])), (max(as.vector(pt_1_ard$index.mat)[!is.na(as.vector(pt_1_ard$index.mat))])),\n",
    "(max(as.vector(pt_3_eq$index.mat)[!is.na(as.vector(pt_3_eq$index.mat))])), (max(as.vector(pt_1_ard$index.mat)[!is.na(as.vector(pt_1_ard$index.mat))])))\n",
    "                ))\n",
    "rownames(df_trait)<-c(\"pt_1_eq\", \"pt_1_ard\",\n",
    "                          \"pt_2_eq\",  \"pt_2_ard\",\n",
    "                          \"pt_3_eq\",  \"pt_3_ard\")\n",
    "colnames(df_trait)<-c(\"AICc\", \"Delta_AICc\", \"AICcWt\", \"K_rates\")\n",
    "write.table(df_trait, paste(\"corHMM_output/model_replicate_\", i, \".tsv\"), sep =\"\\t\")\n",
    "}"
   ]
  },
  {
   "cell_type": "code",
   "execution_count": 30,
   "metadata": {},
   "outputs": [
    {
     "data": {
      "text/plain": [
       "\n",
       "Phylogenetic tree with 65 tips and 64 internal nodes.\n",
       "\n",
       "Tip labels:\n",
       "  Bandicota_indica, Rattus_macleari, Bunomys_chrysocomus, Taeromys_arcuatus, Taeromys_dominator, Rattus_nativitatis, ...\n",
       "\n",
       "Rooted; includes branch lengths."
      ]
     },
     "metadata": {},
     "output_type": "display_data"
    }
   ],
   "source": [
    "phy"
   ]
  }
 ],
 "metadata": {
  "kernelspec": {
   "display_name": "R",
   "language": "R",
   "name": "ir"
  },
  "language_info": {
   "codemirror_mode": "r",
   "file_extension": ".r",
   "mimetype": "text/x-r-source",
   "name": "R",
   "pygments_lexer": "r",
   "version": "4.3.3"
  }
 },
 "nbformat": 4,
 "nbformat_minor": 4
}
