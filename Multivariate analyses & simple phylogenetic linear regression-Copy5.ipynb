{
 "cells": [
  {
   "cell_type": "markdown",
   "metadata": {},
   "source": [
    "# Multivariate analyses & simple phylogenetic linear regression"
   ]
  },
  {
   "cell_type": "markdown",
   "metadata": {},
   "source": [
    "## Cleaning and loading data"
   ]
  },
  {
   "cell_type": "markdown",
   "metadata": {},
   "source": [
    "### Loading packages"
   ]
  },
  {
   "cell_type": "code",
   "execution_count": 1,
   "metadata": {},
   "outputs": [
    {
     "name": "stderr",
     "output_type": "stream",
     "text": [
      "Le chargement a nécessité le package : ape\n",
      "\n",
      "Le chargement a nécessité le package : maps\n",
      "\n",
      "Le chargement a nécessité le package : MASS\n",
      "\n",
      "Le chargement a nécessité le package : cluster\n",
      "\n",
      "\n",
      "Attachement du package : ‘cluster’\n",
      "\n",
      "\n",
      "L'objet suivant est masqué depuis ‘package:maps’:\n",
      "\n",
      "    votes.repub\n",
      "\n",
      "\n",
      "Le chargement a nécessité le package : geiger\n",
      "\n",
      "\n",
      "Attachement du package : ‘TreeTools’\n",
      "\n",
      "\n",
      "L'objet suivant est masqué depuis ‘package:phytools’:\n",
      "\n",
      "    as.multiPhylo\n",
      "\n",
      "\n",
      "Le chargement a nécessité le package : carData\n",
      "\n",
      "Le chargement a nécessité le package : ggplot2\n",
      "\n",
      "Welcome! Want to learn more? See two factoextra-related books at https://goo.gl/ve3WBa\n",
      "\n",
      "\n",
      "Attachement du package : ‘dplyr’\n",
      "\n",
      "\n",
      "L'objet suivant est masqué depuis ‘package:car’:\n",
      "\n",
      "    recode\n",
      "\n",
      "\n",
      "L'objet suivant est masqué depuis ‘package:nlme’:\n",
      "\n",
      "    collapse\n",
      "\n",
      "\n",
      "L'objet suivant est masqué depuis ‘package:MASS’:\n",
      "\n",
      "    select\n",
      "\n",
      "\n",
      "L'objet suivant est masqué depuis ‘package:ape’:\n",
      "\n",
      "    where\n",
      "\n",
      "\n",
      "Les objets suivants sont masqués depuis ‘package:stats’:\n",
      "\n",
      "    filter, lag\n",
      "\n",
      "\n",
      "Les objets suivants sont masqués depuis ‘package:base’:\n",
      "\n",
      "    intersect, setdiff, setequal, union\n",
      "\n",
      "\n"
     ]
    }
   ],
   "source": [
    "library(\"phytools\")\n",
    "library(\"convevol\")\n",
    "library(\"TreeTools\")\n",
    "library(\"nlme\")\n",
    "library(\"car\")\n",
    "library(\"factoextra\")\n",
    "library(\"ggrepel\")\n",
    "library(\"FactoMineR\")\n",
    "library(\"MASS\")\n",
    "library(\"stringr\")\n",
    "library(\"dplyr\")"
   ]
  },
  {
   "cell_type": "markdown",
   "metadata": {},
   "source": [
    "### Loading data"
   ]
  },
  {
   "cell_type": "code",
   "execution_count": 2,
   "metadata": {},
   "outputs": [],
   "source": [
    "phy<-read.tree(file = \"data/Tree_65_sp_murids.tree\")"
   ]
  },
  {
   "cell_type": "code",
   "execution_count": 3,
   "metadata": {},
   "outputs": [],
   "source": [
    "multi_phy<-read.tree(\"data/TreeDist_murids.tree\")"
   ]
  },
  {
   "cell_type": "code",
   "execution_count": 4,
   "metadata": {},
   "outputs": [],
   "source": [
    "table_data<-read.table(\"data/Complete_Table.tsv\")"
   ]
  },
  {
   "cell_type": "markdown",
   "metadata": {},
   "source": [
    "## Simple phylogenetic regression"
   ]
  },
  {
   "cell_type": "markdown",
   "metadata": {},
   "source": [
    "### "
   ]
  },
  {
   "cell_type": "code",
   "execution_count": 5,
   "metadata": {},
   "outputs": [],
   "source": [
    "tab_aggregated <- table_data[!duplicated(table_data$Nomenclature),][,c(1:5)]\n",
    "for (i in c(\"TailLength\", \"Proxy_size_raw\", \"Proxy_size_GM\", \"RImean\", \"RIproxmean\", \"RItranmean\", \"RIdistmean\", \"RIlqmean\", \"TPEImean\", \"TPEIproxmean\", \"TPEItranmean\", \"TPEIdistmean\", \"TPEIlqmean\")){\n",
    "    temp_tab <- eval(parse(text = paste(\"aggregate(\", i, \" ~ Nomenclature, data = table_data, FUN = mean)\", sep = \"\")))\n",
    "    tab_aggregated <- cbind(tab_aggregated, temp_tab[,2])\n",
    "}\n",
    "colnames(tab_aggregated)[6:18] <- c(\"TailLength\", \"Proxy_size_raw\", \"Proxy_size_GM\", \"RImean\", \"RIproxmean\", \"RItranmean\", \"RIdistmean\", \"RIlqmean\", \"TPEImean\", \"TPEIproxmean\", \"TPEItranmean\", \"TPEIdistmean\", \"TPEIlqmean\")"
   ]
  },
  {
   "cell_type": "code",
   "execution_count": 6,
   "metadata": {},
   "outputs": [],
   "source": [
    "bm <- corBrownian(1, phy, form = ~Genus_species)"
   ]
  },
  {
   "cell_type": "code",
   "execution_count": 7,
   "metadata": {},
   "outputs": [],
   "source": [
    "phylo_reg <- function(table, var, table_res){\n",
    "    print(var)\n",
    "    eval(parse(text = paste(\"Pgls_results <- gls(log(\", var, \")~log(Proxy_size_GM), data=table, correlation=bm)\", sep =\"\")))\n",
    "    print(eval(parse(text = paste(\n",
    "    \"plot(log(\", var, \")~log(Proxy_size_GM),data=table,cex=1.5,pch=19,bg='grey', col=c('#D2B48C','#40826D')[as.factor(table$Prehensility_lit)])\n",
    "    text(log(\", var, \")~log(Proxy_size_GM),data=table, labels=table$Nomenclature, cex = 0.6, pos = 1)\n",
    "    abline(Pgls_results,lwd=2,col='darkgrey',lty='dashed')\", sep = \"\")\n",
    "    )))\n",
    "    print(summary(Pgls_results))\n",
    "    temp_table_res <- summary(Pgls_results)\n",
    "    if (temp_table_res$tTable[2,4] < 0.05){\n",
    "        residuals_phy_reg<- as.matrix(residuals(Pgls_results))\n",
    "        colnames(residuals_phy_reg) <- paste(var, \"resphy\", sep = \"\")\n",
    "        residuals_phy_reg\n",
    "        return(cbind(table_res, residuals_phy_reg))\n",
    "    }\n",
    "    else{\n",
    "        temp_col_non_res <- as.matrix(eval(parse(text = paste(\"table$\", var, sep = \"\"))))\n",
    "        colnames(temp_col_non_res) <- paste(var, sep = \"\")\n",
    "        return(cbind(table_res, log(temp_col_non_res)))\n",
    "    }\n",
    "}"
   ]
  },
  {
   "cell_type": "code",
   "execution_count": null,
   "metadata": {
    "scrolled": true
   },
   "outputs": [],
   "source": [
    "table_res <- table_data[,c(1:6)]\n",
    "for (i in c(\"TailLength\", \"RImean\", \"RIproxmean\", \"RItranmean\", \"RIdistmean\", \"RIlqmean\", \"TPEImean\", \"TPEIproxmean\", \"TPEItranmean\", \"TPEIdistmean\", \"TPEIlqmean\")){\n",
    "    table_res <- phylo_reg(table = table_data, var = i, table_res = table_res)\n",
    "}"
   ]
  },
  {
   "cell_type": "markdown",
   "metadata": {},
   "source": [
    "### Testing for normality"
   ]
  },
  {
   "cell_type": "code",
   "execution_count": null,
   "metadata": {},
   "outputs": [],
   "source": [
    "for(i in 7:17){\n",
    "    res_test<-shapiro.test(table_res[,i])\n",
    "    if(res_test$p < 0.05){\n",
    "        print(colnames(table_res)[i])\n",
    "    }\n",
    "}"
   ]
  },
  {
   "cell_type": "markdown",
   "metadata": {},
   "source": [
    "## Principal Component Analysis"
   ]
  },
  {
   "cell_type": "markdown",
   "metadata": {},
   "source": [
    "### All Vertebrae"
   ]
  },
  {
   "cell_type": "code",
   "execution_count": null,
   "metadata": {},
   "outputs": [],
   "source": [
    "DF_PCA_all <- table_res[,c(6, 7, 9, 10, 11, 14, 15, 16)]\n",
    "rownames(DF_PCA_all) <- table_res$Genus_species\n",
    "PCA_all <- PCA(DF_PCA_all)\n",
    "fviz_pca_var(PCA_all, axes = c(1, 2), label=\"all\")\n",
    "fviz_pca_ind(PCA_all, axes = c(1, 2), label=\"all\", habillage=as.factor(table_res$Prehensility), addEllipses = TRUE)"
   ]
  },
  {
   "cell_type": "code",
   "execution_count": null,
   "metadata": {},
   "outputs": [],
   "source": [
    "dataset_all <-data.frame(size=table_data$Proxy_size_GM, PC1=PCA_all$ind$coord[,1],PC2=PCA_all$ind$coord[,2],PC3=PCA_all$ind$coord[,3])\n",
    "size<-dataset_all$size\n",
    "cores<-c(\"#D2B48C\",\"#40826D\")\n",
    "PC_all12 <- ggplot(dataset_all) + geom_point(aes(x=PC1,y=PC2,color=table_data$Prehensility,size=size,shape=table_res$Climbing)) + scale_color_manual(values=cores,aesthetics = c(\"colour\",\"fill\")) + theme(text = element_text(size=15), legend.title = element_text(colour=\"black\", size=15, face = \"bold\"),legend.background = element_rect(fill=\"lightgray\",size=0.5, linetype = \"solid\", colour = \"darkgray\")) + scale_x_continuous(name = paste(\"PC1 (\", round(PCA(DF_PCA_all)$eig[1,2], 1), \"%)\", sep = \"\")) + scale_y_continuous(name = paste(\"PC2 (\", round(PCA(DF_PCA_all)$eig[2,2], 1), \"%)\", sep = \"\")) + geom_text_repel(aes(x=PC1,y=PC2,label=table_res$Nomenclature),size=2)\n",
    "PC_all13 <- ggplot(dataset_all) + geom_point(aes(x=PC1,y=PC3,color=table_data$Prehensility,size=size,shape=table_res$Climbing))  + scale_color_manual(values=cores,aesthetics = c(\"colour\",\"fill\")) + theme(text = element_text(size=15), legend.title = element_text(colour=\"black\", size=15, face = \"bold\"),legend.background = element_rect(fill=\"lightgray\",size=0.5, linetype = \"solid\", colour = \"darkgray\")) + scale_x_continuous(name = paste(\"PC1 (\", round(PCA(DF_PCA_all)$eig[1,2], 1), \"%)\", sep = \"\")) + scale_y_continuous(name = paste(\"PC3 (\", round(PCA(DF_PCA_all)$eig[3,2], 1), \"%)\", sep = \"\")) + geom_text_repel(aes(x=PC1,y=PC3,label=table_res$Nomenclature),size=2)"
   ]
  },
  {
   "cell_type": "code",
   "execution_count": null,
   "metadata": {},
   "outputs": [],
   "source": [
    "PC_all12\n",
    "PC_all13"
   ]
  },
  {
   "cell_type": "markdown",
   "metadata": {},
   "source": [
    "### Distal Vertebrae"
   ]
  },
  {
   "cell_type": "code",
   "execution_count": null,
   "metadata": {},
   "outputs": [],
   "source": [
    "DF_PCA_distal <- table_res[,c(6, 7, 11, 16)]\n",
    "rownames(DF_PCA_distal) <- table_res$Genus_species\n",
    "PCA_distal <- PCA(DF_PCA_distal)\n",
    "fviz_pca_var(PCA_distal, axes = c(1, 2), label=\"distal\")\n",
    "fviz_pca_ind(PCA_distal, axes = c(1, 2), label=\"distal\", habillage=as.factor(table_res$Prehensility), addEllipses = TRUE)"
   ]
  },
  {
   "cell_type": "code",
   "execution_count": null,
   "metadata": {},
   "outputs": [],
   "source": [
    "dataset_distal <-data.frame(size=table_data$Proxy_size_GM, PC1=PCA_distal$ind$coord[,1],PC2=PCA_distal$ind$coord[,2],PC3=PCA_distal$ind$coord[,3])\n",
    "size<-dataset_distal$size\n",
    "cores<-c(\"#D2B48C\",\"#40826D\")\n",
    "PC_distal12 <- ggplot(dataset_distal) + geom_point(aes(x=PC1,y=PC2,color=table_data$Prehensility,size=size,shape=table_res$Climbing)) + scale_color_manual(values=cores,aesthetics = c(\"colour\",\"fill\")) + theme(text = element_text(size=15), legend.title = element_text(colour=\"black\", size=15, face = \"bold\"),legend.background = element_rect(fill=\"lightgray\",size=0.5, linetype = \"solid\", colour = \"darkgray\")) + scale_x_continuous(name = paste(\"PC1 (\", round(PCA(DF_PCA_distal)$eig[1,2], 1), \"%)\", sep = \"\")) + scale_y_continuous(name = paste(\"PC2 (\", round(PCA(DF_PCA_distal)$eig[2,2], 1), \"%)\", sep = \"\")) + geom_text_repel(aes(x=PC1,y=PC2,label=table_res$Nomenclature),size=2)\n",
    "PC_distal13 <- ggplot(dataset_distal) + geom_point(aes(x=PC1,y=PC3,color=table_data$Prehensility,size=size,shape=table_res$Climbing))  + scale_color_manual(values=cores,aesthetics = c(\"colour\",\"fill\")) + theme(text = element_text(size=15), legend.title = element_text(colour=\"black\", size=15, face = \"bold\"),legend.background = element_rect(fill=\"lightgray\",size=0.5, linetype = \"solid\", colour = \"darkgray\")) + scale_x_continuous(name = paste(\"PC1 (\", round(PCA(DF_PCA_distal)$eig[1,2], 1), \"%)\", sep = \"\")) + scale_y_continuous(name = paste(\"PC3 (\", round(PCA(DF_PCA_distal)$eig[3,2], 1), \"%)\", sep = \"\")) + geom_text_repel(aes(x=PC1,y=PC3,label=table_res$Nomenclature),size=2)"
   ]
  },
  {
   "cell_type": "code",
   "execution_count": null,
   "metadata": {},
   "outputs": [],
   "source": [
    "PC_distal12\n",
    "PC_distal13"
   ]
  },
  {
   "cell_type": "markdown",
   "metadata": {},
   "source": [
    "### Last Quarter"
   ]
  },
  {
   "cell_type": "code",
   "execution_count": null,
   "metadata": {},
   "outputs": [],
   "source": [
    "DF_PCA_last_Q <- table_res[,c(6, 7, 12, 17)]\n",
    "rownames(DF_PCA_last_Q) <- table_res$Genus_species\n",
    "PCA_last_Q <- PCA(DF_PCA_last_Q)\n",
    "fviz_pca_var(PCA_last_Q, axes = c(1, 2), label=\"last_Q\")\n",
    "fviz_pca_ind(PCA_last_Q, axes = c(1, 2), label=\"last_Q\", habillage=as.factor(table_res$Prehensility), addEllipses = TRUE)"
   ]
  },
  {
   "cell_type": "code",
   "execution_count": null,
   "metadata": {},
   "outputs": [],
   "source": [
    "dataset_last_Q <-data.frame(size=table_data$Proxy_size_GM, PC1=PCA_last_Q$ind$coord[,1],PC2=PCA_last_Q$ind$coord[,2],PC3=PCA_last_Q$ind$coord[,3])\n",
    "size<-dataset_last_Q$size\n",
    "cores<-c(\"#D2B48C\",\"#40826D\")\n",
    "PC_last_Q12 <- ggplot(dataset_last_Q) + geom_point(aes(x=PC1,y=PC2,color=table_data$Prehensility,size=size,shape=table_res$Climbing)) + scale_color_manual(values=cores,aesthetics = c(\"colour\",\"fill\")) + theme(text = element_text(size=15), legend.title = element_text(colour=\"black\", size=15, face = \"bold\"),legend.background = element_rect(fill=\"lightgray\",size=0.5, linetype = \"solid\", colour = \"darkgray\")) + scale_x_continuous(name = paste(\"PC1 (\", round(PCA(DF_PCA_last_Q)$eig[1,2], 1), \"%)\", sep = \"\")) + scale_y_continuous(name = paste(\"PC2 (\", round(PCA(DF_PCA_last_Q)$eig[2,2], 1), \"%)\", sep = \"\")) + geom_text_repel(aes(x=PC1,y=PC2,label=table_res$Nomenclature),size=2)\n",
    "PC_last_Q13 <- ggplot(dataset_last_Q) + geom_point(aes(x=PC1,y=PC3,color=table_data$Prehensility,size=size,shape=table_res$Climbing))  + scale_color_manual(values=cores,aesthetics = c(\"colour\",\"fill\")) + theme(text = element_text(size=15), legend.title = element_text(colour=\"black\", size=15, face = \"bold\"),legend.background = element_rect(fill=\"lightgray\",size=0.5, linetype = \"solid\", colour = \"darkgray\")) + scale_x_continuous(name = paste(\"PC1 (\", round(PCA(DF_PCA_last_Q)$eig[1,2], 1), \"%)\", sep = \"\")) + scale_y_continuous(name = paste(\"PC3 (\", round(PCA(DF_PCA_last_Q)$eig[3,2], 1), \"%)\", sep = \"\")) + geom_text_repel(aes(x=PC1,y=PC3,label=table_res$Nomenclature),size=2)"
   ]
  },
  {
   "cell_type": "code",
   "execution_count": null,
   "metadata": {},
   "outputs": [],
   "source": [
    "PC_last_Q12\n",
    "PC_last_Q13"
   ]
  },
  {
   "cell_type": "markdown",
   "metadata": {},
   "source": [
    "## Linear Discriminant analysis"
   ]
  },
  {
   "cell_type": "markdown",
   "metadata": {},
   "source": [
    "### Training group creation"
   ]
  },
  {
   "cell_type": "code",
   "execution_count": null,
   "metadata": {},
   "outputs": [],
   "source": [
    "training_group <- c(\"Thamnomys_poensis\",\"Hyomys_goliath\",\"Hyomys_goliath_2\",\"Mallomys_hercules\",\"Mallomys_istapantap\",\"Mallomys_rothschildi\",\"Protochromys_fellowsi\",\"Uromys_imperator\",\"Uromys_rex\")"
   ]
  },
  {
   "cell_type": "markdown",
   "metadata": {},
   "source": [
    "### All Vertebrae"
   ]
  },
  {
   "cell_type": "markdown",
   "metadata": {},
   "source": [
    "### Data preparation"
   ]
  },
  {
   "cell_type": "code",
   "execution_count": null,
   "metadata": {},
   "outputs": [],
   "source": [
    "test.data_all <- DF_PCA_all[training_group,]\n",
    "codeprehLDAphylo <- as.factor(table_data$Prehensility)\n",
    "names(codeprehLDAphylo) = table_data$Genus_species\n",
    "codeprehLDAphylo_training <- codeprehLDAphylo[names(codeprehLDAphylo) %in% setdiff(names(codeprehLDAphylo), training_group)]\n",
    "training.data_all <- DF_PCA_all[rownames(DF_PCA_all) %in% names(codeprehLDAphylo[names(codeprehLDAphylo) %in% setdiff(names(codeprehLDAphylo), training_group)]),]"
   ]
  },
  {
   "cell_type": "markdown",
   "metadata": {},
   "source": [
    "### LDA"
   ]
  },
  {
   "cell_type": "code",
   "execution_count": null,
   "metadata": {},
   "outputs": [],
   "source": [
    "model_all <- lda(training.data_all, codeprehLDAphylo_training)\n",
    "predictions_all <- model_all %>% predict(test.data_all)"
   ]
  },
  {
   "cell_type": "markdown",
   "metadata": {},
   "source": [
    "### Distal Vertebrae"
   ]
  },
  {
   "cell_type": "markdown",
   "metadata": {},
   "source": [
    "### Data preparation"
   ]
  },
  {
   "cell_type": "code",
   "execution_count": null,
   "metadata": {},
   "outputs": [],
   "source": [
    "test.data_distal <- DF_PCA_distal[training_group,]\n",
    "codeprehLDAphylo <- as.factor(table_data$Prehensility)\n",
    "names(codeprehLDAphylo) = table_data$Genus_species\n",
    "codeprehLDAphylo_training <- codeprehLDAphylo[names(codeprehLDAphylo) %in% setdiff(names(codeprehLDAphylo), training_group)]\n",
    "training.data_distal <- DF_PCA_distal[rownames(DF_PCA_distal) %in% names(codeprehLDAphylo[names(codeprehLDAphylo) %in% setdiff(names(codeprehLDAphylo), training_group)]),]"
   ]
  },
  {
   "cell_type": "markdown",
   "metadata": {},
   "source": [
    "### LDA"
   ]
  },
  {
   "cell_type": "code",
   "execution_count": null,
   "metadata": {},
   "outputs": [],
   "source": [
    "model_distal <- lda(training.data_distal, codeprehLDAphylo_training)\n",
    "predictions_distal <- model_distal %>% predict(test.data_distal)"
   ]
  },
  {
   "cell_type": "markdown",
   "metadata": {},
   "source": [
    "### Last Quarter"
   ]
  },
  {
   "cell_type": "markdown",
   "metadata": {},
   "source": [
    "### Data preparation"
   ]
  },
  {
   "cell_type": "code",
   "execution_count": null,
   "metadata": {},
   "outputs": [],
   "source": [
    "test.data_last_Q <- DF_PCA_last_Q[training_group,]\n",
    "codeprehLDAphylo <- as.factor(table_data$Prehensility)\n",
    "names(codeprehLDAphylo) = table_data$Genus_species\n",
    "codeprehLDAphylo_training <- codeprehLDAphylo[names(codeprehLDAphylo) %in% setdiff(names(codeprehLDAphylo), training_group)]\n",
    "training.data_last_Q <- DF_PCA_last_Q[rownames(DF_PCA_last_Q) %in% names(codeprehLDAphylo[names(codeprehLDAphylo) %in% setdiff(names(codeprehLDAphylo), training_group)]),]"
   ]
  },
  {
   "cell_type": "markdown",
   "metadata": {},
   "source": [
    "### LDA"
   ]
  },
  {
   "cell_type": "code",
   "execution_count": null,
   "metadata": {},
   "outputs": [],
   "source": [
    "model_last_Q <- lda(training.data_last_Q, codeprehLDAphylo_training)\n",
    "predictions_last_Q <- model_last_Q %>% predict(test.data_last_Q)"
   ]
  },
  {
   "cell_type": "markdown",
   "metadata": {},
   "source": [
    "### Save estimated Prehensility type"
   ]
  },
  {
   "cell_type": "markdown",
   "metadata": {},
   "source": [
    "#### Assuming a threshold at 70 %"
   ]
  },
  {
   "cell_type": "code",
   "execution_count": null,
   "metadata": {
    "scrolled": true
   },
   "outputs": [],
   "source": [
    "predictions_last_Q_posterior <- as.data.frame(predictions_last_Q$posterior)\n",
    "Prehensility_LDA <- table_data$Prehensility\n",
    "for(j in 1:nrow(predictions_last_Q_posterior)){\n",
    "    if(predictions_last_Q_posterior[j,1] > 0.7){\n",
    "        Prehensility_LDA[which(table_data$Genus_species == rownames(predictions_last_Q_posterior)[j])] <- \"N\"\n",
    "    }\n",
    "    if(predictions_last_Q_posterior[j,2] > 0.7){\n",
    "        Prehensility_LDA[which(table_data$Genus_species == rownames(predictions_last_Q_posterior)[j])] <- \"P\"\n",
    "    }\n",
    "    if(predictions_last_Q_posterior[j,1] < 0.7 & predictions_last_Q_posterior[j,2] < 0.7){\n",
    "        Prehensility_LDA[which(table_data$Genus_species == rownames(predictions_last_Q_posterior)[j])] <- NA\n",
    "    }\n",
    "}"
   ]
  },
  {
   "cell_type": "code",
   "execution_count": null,
   "metadata": {},
   "outputs": [],
   "source": [
    "df_prehensility_ASE<-as.data.frame(cbind(table_data$Genus_species, Prehensility_LDA))"
   ]
  },
  {
   "cell_type": "code",
   "execution_count": null,
   "metadata": {},
   "outputs": [],
   "source": [
    "write.table(df_prehensility_ASE, \"data/Code_P_Muridae.tsv\", sep=\"\\t\", col.names = TRUE, row.names = FALSE)"
   ]
  },
  {
   "cell_type": "code",
   "execution_count": null,
   "metadata": {},
   "outputs": [],
   "source": [
    "write.table(as.data.frame(cbind(table_data, Prehensility_LDA)), \"data/table_complete_LDA.tsv\", sep=\"\\t\", col.names = TRUE, row.names = FALSE)"
   ]
  },
  {
   "cell_type": "markdown",
   "metadata": {},
   "source": [
    "## Phylomorphospace & Phenogram"
   ]
  },
  {
   "cell_type": "markdown",
   "metadata": {},
   "source": [
    "### Pre-painting the clades"
   ]
  },
  {
   "cell_type": "code",
   "execution_count": null,
   "metadata": {},
   "outputs": [],
   "source": [
    "Prehensility_LDA <- as.character(df_prehensility_ASE$Prehensility_LDA)\n",
    "Prehensility_LDA[which(is.na(Prehensility_LDA))] <- \"UKN\"\n",
    "Prehensility_LDA <- as.factor(Prehensility_LDA)\n",
    "names(Prehensility_LDA) <- table_data$Genus_species\n",
    "colspheno<-setNames(c(\"#D2B48C\",\"#40826D\",\"#000000\"), sort(unique(Prehensility_LDA)))\n",
    "painted<-paintSubTree(phy,128,\"PHL\",\"0\")\n",
    "painted<-paintSubTree(painted,111,\"MIC+RAT\")\n",
    "painted<-paintSubTree(painted,120,\"VAN+MIL+PIT+ARV\")\n",
    "painted<-paintSubTree(painted,110,\"CHI\")\n",
    "painted<-paintSubTree(painted,71,\"HYD\") \n",
    "paintedSC <- painted\n",
    "coltree <- c(\"0\"=\"black\", \"PHL\"=\"#999999\",\"MIC+RAT\"=\"#D55E00\", \"VAN+MIL+PIT+ARV\"=\"#0072B2\", \"CHI\"=\"#56B4E9\" ,\"HYD\"=\"#CC79A7\")\n",
    "cols<-c(rep(\"black\",length(phy$tip.label)), rep(\"black\", phy$Nnode))\n",
    "names(cols)<-1:length(cols)\n",
    "cols[df_prehensility_ASE$Prehensility_LDA==\"N\"]<-\"#D2B48C\"\n",
    "cols[df_prehensility_ASE$Prehensility_LDA==\"P\"]<-\"#40826D\""
   ]
  },
  {
   "cell_type": "markdown",
   "metadata": {},
   "source": [
    "#### Phylomorphospace"
   ]
  },
  {
   "cell_type": "markdown",
   "metadata": {},
   "source": [
    "#### All vertebrae"
   ]
  },
  {
   "cell_type": "code",
   "execution_count": null,
   "metadata": {
    "scrolled": true
   },
   "outputs": [],
   "source": [
    "tabphymor_all <- PCA_all$ind$coord[,1:3]\n",
    "DFphymor_all <- data.frame(tabphymor_all,df_prehensility_ASE$Prehensility_LDA)\n",
    "rownames(DFphymor_all) <- table_data$Genus_species"
   ]
  },
  {
   "cell_type": "markdown",
   "metadata": {},
   "source": [
    "##### Plot"
   ]
  },
  {
   "cell_type": "code",
   "execution_count": null,
   "metadata": {},
   "outputs": [],
   "source": [
    "phylmorph_all_12 <- phylomorphospace(paintedSC,DFphymor_all[,1:2],xlab=\"PC1\",ylab=\"PC2\", colors= coltree, control = list(col.node= cols), fsize=0.8, node.size=0)\n",
    "points(DFphymor_all[,1:2][paintedSC$tip.label,],col=\"black\", bg=cols ,pch=21,cex=1.6, lwd=0.9)"
   ]
  },
  {
   "cell_type": "markdown",
   "metadata": {},
   "source": [
    "### Distal vertebrae"
   ]
  },
  {
   "cell_type": "code",
   "execution_count": null,
   "metadata": {},
   "outputs": [],
   "source": [
    "tabphymor_distal <- PCA_distal$ind$coord[,1:3]\n",
    "DFphymor_distal <- data.frame(tabphymor_distal,df_prehensility_ASE$Prehensility_LDA)\n",
    "rownames(DFphymor_distal) <- table_data$Genus_species"
   ]
  },
  {
   "cell_type": "markdown",
   "metadata": {},
   "source": [
    "##### Plot"
   ]
  },
  {
   "cell_type": "code",
   "execution_count": null,
   "metadata": {},
   "outputs": [],
   "source": [
    "phylmorph_distal_12 <- phylomorphospace(paintedSC,DFphymor_distal[,1:2],xlab=\"PC1\",ylab=\"PC2\", colors= coltree, control = list(col.node= cols), fsize=0.8, node.size=0)\n",
    "points(DFphymor_distal[,1:2][paintedSC$tip.label,],col=\"black\", bg=cols ,pch=21,cex=1.6, lwd=0.9)"
   ]
  },
  {
   "cell_type": "markdown",
   "metadata": {},
   "source": [
    "### Last Quarter vertebrae"
   ]
  },
  {
   "cell_type": "code",
   "execution_count": null,
   "metadata": {},
   "outputs": [],
   "source": [
    "tabphymor_last_Q <- PCA_last_Q$ind$coord[,1:3]\n",
    "DFphymor_last_Q <- data.frame(tabphymor_last_Q,df_prehensility_ASE$Prehensility_LDA)\n",
    "rownames(DFphymor_last_Q) <- table_data$Genus_species"
   ]
  },
  {
   "cell_type": "markdown",
   "metadata": {},
   "source": [
    "##### Plot"
   ]
  },
  {
   "cell_type": "code",
   "execution_count": null,
   "metadata": {
    "scrolled": true
   },
   "outputs": [],
   "source": [
    "phylmorph_last_Q_12 <- phylomorphospace(paintedSC,DFphymor_last_Q[,1:2],xlab=\"PC1\",ylab=\"PC2\", colors= coltree, control = list(col.node= cols), fsize=0.8, node.size=0)\n",
    "points(DFphymor_last_Q[,1:2][paintedSC$tip.label,],col=\"black\", bg=cols ,pch=21,cex=1.6, lwd=0.9)"
   ]
  },
  {
   "cell_type": "markdown",
   "metadata": {},
   "source": [
    "##### Plot All (PC1)"
   ]
  },
  {
   "cell_type": "code",
   "execution_count": null,
   "metadata": {
    "scrolled": true
   },
   "outputs": [],
   "source": [
    "phenogram(painted,PCA_all$ind$coord[,1], colors = coltree,spread.labels=TRUE,spread.cost=c(1,0))\n",
    "tiplabels(pie=to.matrix(Prehensility_LDA[painted$tip.label],seq=sort(unique(Prehensility_LDA))),\n",
    "          piecol=colspheno,cex=0.2)"
   ]
  },
  {
   "cell_type": "markdown",
   "metadata": {},
   "source": [
    "##### Plot All (PC2)"
   ]
  },
  {
   "cell_type": "code",
   "execution_count": null,
   "metadata": {
    "scrolled": true
   },
   "outputs": [],
   "source": [
    "phenogram(painted,PCA_all$ind$coord[,2], colors = coltree,spread.labels=TRUE,spread.cost=c(1,0))\n",
    "tiplabels(pie=to.matrix(Prehensility_LDA[painted$tip.label],seq=sort(unique(Prehensility_LDA))),\n",
    "          piecol=colspheno,cex=0.2)"
   ]
  },
  {
   "cell_type": "markdown",
   "metadata": {},
   "source": [
    "##### Plot All (PC3)"
   ]
  },
  {
   "cell_type": "code",
   "execution_count": null,
   "metadata": {},
   "outputs": [],
   "source": [
    "phenogram(painted,PCA_all$ind$coord[,3], colors = coltree,spread.labels=TRUE,spread.cost=c(1,0))\n",
    "tiplabels(pie=to.matrix(Prehensility_LDA[painted$tip.label],seq=sort(unique(Prehensility_LDA))),\n",
    "          piecol=colspheno,cex=0.2)"
   ]
  },
  {
   "cell_type": "markdown",
   "metadata": {},
   "source": [
    "#### Plot Distal (PC1)"
   ]
  },
  {
   "cell_type": "code",
   "execution_count": null,
   "metadata": {},
   "outputs": [],
   "source": [
    "phenogram(painted,PCA_distal$ind$coord[,1], colors = coltree,spread.labels=TRUE,spread.cost=c(1,0))\n",
    "tiplabels(pie=to.matrix(Prehensility_LDA[painted$tip.label],seq=sort(unique(Prehensility_LDA))),\n",
    "          piecol=colspheno,cex=0.2)"
   ]
  },
  {
   "cell_type": "markdown",
   "metadata": {},
   "source": [
    "#### Plot Last Quarter (PC1)"
   ]
  },
  {
   "cell_type": "code",
   "execution_count": null,
   "metadata": {
    "scrolled": true
   },
   "outputs": [],
   "source": [
    "phenogram(painted,PCA_last_Q$ind$coord[,1], colors = coltree,spread.labels=TRUE,spread.cost=c(1,0))\n",
    "tiplabels(pie=to.matrix(Prehensility_LDA[painted$tip.label],seq=sort(unique(Prehensility_LDA))),\n",
    "          piecol=colspheno,cex=0.2)"
   ]
  },
  {
   "cell_type": "markdown",
   "metadata": {},
   "source": [
    "## Convergence Index"
   ]
  },
  {
   "cell_type": "markdown",
   "metadata": {},
   "source": [
    "## Data Preparation"
   ]
  },
  {
   "cell_type": "code",
   "execution_count": null,
   "metadata": {
    "scrolled": true
   },
   "outputs": [],
   "source": [
    "ScoresPC1 <- cbind(PCA_all$ind$coord[,1],PCA_distal$ind$coord[,1],PCA_last_Q$ind$coord[,1])\n",
    "colnames(ScoresPC1) <- cbind(\"PC1_all\",\"PC1_distal\",\"PC1_last_Q\")\n",
    "scoresPC1_match <- ScoresPC1[match(phy$tip.label,rownames(ScoresPC1)),]\n",
    "list_preh <- as.character(table_data$Genus_species[Prehensility_LDA == \"P\"])\n",
    "\n",
    "data_convSig_all <- as.matrix(scoresPC1_match[,1])\n",
    "data_convSig_distal <- as.matrix(scoresPC1_match[,2])\n",
    "data_convSig_last_Q <- as.matrix(scoresPC1_match[,3])"
   ]
  },
  {
   "cell_type": "markdown",
   "metadata": {},
   "source": [
    "### Convergence index model"
   ]
  },
  {
   "cell_type": "markdown",
   "metadata": {},
   "source": [
    "#### All Vertebrae"
   ]
  },
  {
   "cell_type": "markdown",
   "metadata": {},
   "source": [
    "##### PCI "
   ]
  },
  {
   "cell_type": "code",
   "execution_count": null,
   "metadata": {},
   "outputs": [],
   "source": [
    "calcConv(phy, scoresPC1_match[,1], list_preh, VERBOSE = FALSE)\n",
    "resConv_all_PCI <- convSig(phy, data_convSig_all, list_preh, nsim = 1000)\n",
    "saveRDS(resConv_all_PCI, \"data/resConv_all_PCI.rds\")"
   ]
  },
  {
   "cell_type": "markdown",
   "metadata": {},
   "source": [
    "##### All axes"
   ]
  },
  {
   "cell_type": "code",
   "execution_count": null,
   "metadata": {},
   "outputs": [],
   "source": [
    "mat_PCA_all <- data.matrix(DF_PCA_all)\n",
    "calcConv(phy, mat_PCA_all, list_preh, VERBOSE = FALSE)\n",
    "resConv_all <- convSig(phy, mat_PCA_all, list_preh, nsim = 1000)\n",
    "saveRDS(resConv_all, \"data/resConv_all.rds\")"
   ]
  },
  {
   "cell_type": "markdown",
   "metadata": {},
   "source": [
    "#### Distal Vertebrae"
   ]
  },
  {
   "cell_type": "markdown",
   "metadata": {},
   "source": [
    "##### PCI "
   ]
  },
  {
   "cell_type": "code",
   "execution_count": null,
   "metadata": {},
   "outputs": [],
   "source": [
    "calcConv(phy, scoresPC1_match[,2], list_preh, VERBOSE = FALSE)\n",
    "resConv_distalPCI <- convSig(phy, data_convSig_distal, list_preh, nsim = 1000)\n",
    "saveRDS(resConv_distalPCI, \"data/resConv_distalPCI.rds\")"
   ]
  },
  {
   "cell_type": "markdown",
   "metadata": {},
   "source": [
    "##### All axes"
   ]
  },
  {
   "cell_type": "code",
   "execution_count": null,
   "metadata": {},
   "outputs": [],
   "source": [
    "mat_PCA_distal <- data.matrix(DF_PCA_distal)\n",
    "calcConv(phy, mat_PCA_distal, list_preh, VERBOSE = FALSE)\n",
    "resConv_distal <- convSig(phy, mat_PCA_distal, list_preh, nsim = 1000)\n",
    "saveRDS(resConv_distal, \"data/resConv_distal.rds\")"
   ]
  },
  {
   "cell_type": "markdown",
   "metadata": {},
   "source": [
    "#### Last Quarter Vertebrae"
   ]
  },
  {
   "cell_type": "markdown",
   "metadata": {},
   "source": [
    "##### PCI "
   ]
  },
  {
   "cell_type": "code",
   "execution_count": null,
   "metadata": {},
   "outputs": [],
   "source": [
    "calcConv(phy, scoresPC1_match[,3], list_preh, VERBOSE = FALSE)\n",
    "resConv_last_QPCI <- convSig(phy, data_convSig_last_Q, list_preh, nsim = 1000)\n",
    "saveRDS(resConv_last_QPCI, \"data/resConv_last_QPCI.rds\")"
   ]
  },
  {
   "cell_type": "markdown",
   "metadata": {},
   "source": [
    "##### All axes"
   ]
  },
  {
   "cell_type": "code",
   "execution_count": null,
   "metadata": {},
   "outputs": [],
   "source": [
    "mat_PCA_last_Q <- data.matrix(DF_PCA_last_Q) \n",
    "calcConv(phy, mat_PCA_last_Q, list_preh, VERBOSE = FALSE)\n",
    "resConv_last_Q <- convSig(phy, mat_PCA_last_Q, list_preh, nsim = 1000)\n",
    "saveRDS(resConv_last_Q, \"data/resConv_last_Q.rds\")"
   ]
  },
  {
   "cell_type": "markdown",
   "metadata": {},
   "source": [
    "### Optional (Convergence index on posterior tree distribution)"
   ]
  },
  {
   "cell_type": "code",
   "execution_count": null,
   "metadata": {},
   "outputs": [],
   "source": [
    "for (i in 501:600){\n",
    "    \n",
    "phy<-multi_phy[[i]]\n",
    "\n",
    "phy$tip.label<-paste(str_split_fixed(phy$tip.label, \"_\", 3)[,1], str_split_fixed(phy$tip.label, \"_\", 3)[,2], sep =\"_\")\n",
    "phy<-AddTip(phy, where = which(phy$tip.label== \"Hyomys_goliath\"), label = \"Hyomys_goliath_2\", edgeLength = 0.1, lengthBelow = 0.1)\n",
    "phy$tip.label[phy$tip.label=='Taeromys_punicans']<-'Taeromys_arcuatus'\n",
    "phy$tip.label[phy$tip.label=='Lenothrix_canus']<-'Lenothrix_cana'\n",
    "phy$tip.label[phy$tip.label=='Hydromys_obi']<-'Hydromys_chrisogaster'\n",
    "phy$tip.label[phy$tip.label=='Leptomys_elegans']<-'Leptomys_sp'\n",
    "phy$tip.label[phy$tip.label=='Microhydromys_richardsoni']<-'Microhydromys_sp'\n",
    "phy$tip.label[phy$tip.label=='Mesembriomys_gouldii']<-'Mesembryomys_gouldii'\n",
    "phy$tip.label[phy$tip.label=='Paramelomys_levipes']<-'Paramelomys_sp'\n",
    "phy$tip.label[phy$tip.label=='Haeromys_minahassaeZ23000']<-'Haeromys_minahassae'\n",
    "phy$tip.label[phy$tip.label=='Thallomys_sp']<-'Thallomys_spce'\n",
    "phy$tip.label[phy$tip.label=='Pithecheir_chim']<-'Pithecheir_melanurus'\n",
    "\n",
    "\n",
    "calcConv(phy, scoresPC1_match[,1], list_preh, VERBOSE = FALSE)\n",
    "resConv_all_PCI <- convSig(phy, data_convSig_all, list_preh, nsim = 1000)\n",
    "saveRDS(resConv_all_PCI, paste(\"conv_Index/resConv_allPCI_replicate_\", i, \".rds\", sep = \"\"))\n",
    "\n",
    "##### All axes\n",
    "\n",
    "mat_PCA_all <- data.matrix(DF_PCA_all)\n",
    "calcConv(phy, mat_PCA_all, list_preh, VERBOSE = FALSE)\n",
    "resConv_all <- convSig(phy, mat_PCA_all, list_preh, nsim = 1000)\n",
    "saveRDS(resConv_all, paste(\"conv_Index/resConv_all_replicate_\", i, \".rds\", sep = \"\"))\n",
    "\n",
    "#### Distal Vertebrae\n",
    "\n",
    "##### PCI \n",
    "\n",
    "calcConv(phy, scoresPC1_match[,2], list_preh, VERBOSE = FALSE)\n",
    "resConv_distalPCI <- convSig(phy, data_convSig_distal, list_preh, nsim = 1000)\n",
    "saveRDS(resConv_distalPCI, paste(\"conv_Index/resConv_distalPCI_replicate_\", i, \".rds\", sep = \"\"))\n",
    "\n",
    "##### All axes\n",
    "\n",
    "mat_PCA_distal <- data.matrix(DF_PCA_distal)\n",
    "calcConv(phy, mat_PCA_distal, list_preh, VERBOSE = FALSE)\n",
    "resConv_distal <- convSig(phy, mat_PCA_distal, list_preh, nsim = 1000)\n",
    "saveRDS(resConv_distal, paste(\"conv_Index/resConv_all_replicate_\", i, \".rds\", sep = \"\"))\n",
    "\n",
    "#### Last Quarter Vertebrae\n",
    "\n",
    "##### PCI \n",
    "\n",
    "calcConv(phy, scoresPC1_match[,3], list_preh, VERBOSE = FALSE)\n",
    "resConv_last_QPCI <- convSig(phy, data_convSig_last_Q, list_preh, nsim = 1000)\n",
    "saveRDS(resConv_last_QPCI, paste(\"conv_Index/resConv_last_Q_PCI_replicate_\", i, \".rds\", sep = \"\"))\n",
    "\n",
    "##### All axes\n",
    "\n",
    "mat_PCA_last_Q <- data.matrix(DF_PCA_last_Q) \n",
    "calcConv(phy, mat_PCA_last_Q, list_preh, VERBOSE = FALSE)\n",
    "resConv_last_Q <- convSig(phy, mat_PCA_last_Q, list_preh, nsim = 1000)\n",
    "saveRDS(resConv_last_Q, paste(\"conv_Index/resConv_last_Q_replicate_\", i, \".rds\", sep = \"\"))\n",
    "}"
   ]
  }
 ],
 "metadata": {
  "kernelspec": {
   "display_name": "R",
   "language": "R",
   "name": "ir"
  },
  "language_info": {
   "codemirror_mode": "r",
   "file_extension": ".r",
   "mimetype": "text/x-r-source",
   "name": "R",
   "pygments_lexer": "r",
   "version": "4.3.3"
  }
 },
 "nbformat": 4,
 "nbformat_minor": 4
}
