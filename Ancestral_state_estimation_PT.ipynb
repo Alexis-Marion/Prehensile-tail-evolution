{
 "cells": [
  {
   "cell_type": "markdown",
   "metadata": {},
   "source": [
    "# Testing the correlation between discrete traits"
   ]
  },
  {
   "cell_type": "markdown",
   "metadata": {},
   "source": [
    "### Loading library"
   ]
  },
  {
   "cell_type": "code",
   "execution_count": 1,
   "metadata": {
    "scrolled": true
   },
   "outputs": [
    {
     "name": "stderr",
     "output_type": "stream",
     "text": [
      "Le chargement a nécessité le package : ape\n",
      "\n",
      "Le chargement a nécessité le package : nloptr\n",
      "\n",
      "Le chargement a nécessité le package : GenSA\n",
      "\n",
      "Package 'mclust' version 6.1\n",
      "Type 'citation(\"mclust\")' for citing this R package in publications.\n",
      "\n",
      "Le chargement a nécessité le package : maps\n",
      "\n",
      "\n",
      "Attachement du package : ‘maps’\n",
      "\n",
      "\n",
      "L'objet suivant est masqué depuis ‘package:mclust’:\n",
      "\n",
      "    map\n",
      "\n",
      "\n",
      "Le chargement a nécessité le package : MASS\n",
      "\n",
      "Le chargement a nécessité le package : minpack.lm\n",
      "\n",
      "Le chargement a nécessité le package : rgl\n",
      "\n",
      "This build of rgl does not include OpenGL functions.  Use\n",
      " rglwidget() to display results, e.g. via options(rgl.printRglwidget = TRUE).\n",
      "\n",
      "Le chargement a nécessité le package : robustbase\n",
      "\n",
      "Le chargement a nécessité le package : Matrix\n",
      "\n",
      "\u001b[90mggtree v3.10.1 For help: https://yulab-smu.top/treedata-book/\n",
      "\n",
      "If you use the ggtree package suite in published research, please cite\n",
      "the appropriate paper(s):\n",
      "\n",
      "Guangchuang Yu, David Smith, Huachen Zhu, Yi Guan, Tommy Tsan-Yuk Lam.\n",
      "ggtree: an R package for visualization and annotation of phylogenetic\n",
      "trees with their covariates and other associated data. Methods in\n",
      "Ecology and Evolution. 2017, 8(1):28-36. doi:10.1111/2041-210X.12628\n",
      "\n",
      "Guangchuang Yu.  Data Integration, Manipulation and Visualization of\n",
      "Phylogenetic Trees (1st edition). Chapman and Hall/CRC. 2022,\n",
      "doi:10.1201/9781003279242\n",
      "\n",
      "LG Wang, TTY Lam, S Xu, Z Dai, L Zhou, T Feng, P Guo, CW Dunn, BR\n",
      "Jones, T Bradley, H Zhu, Y Guan, Y Jiang, G Yu. treeio: an R package\n",
      "for phylogenetic tree input and output with richly annotated and\n",
      "associated data. Molecular Biology and Evolution. 2020, 37(2):599-603.\n",
      "doi: 10.1093/molbev/msz240 \u001b[39m\n",
      "\n",
      "\n",
      "Attachement du package : ‘ggtree’\n",
      "\n",
      "\n",
      "L'objet suivant est masqué depuis ‘package:Matrix’:\n",
      "\n",
      "    expand\n",
      "\n",
      "\n",
      "L'objet suivant est masqué depuis ‘package:ape’:\n",
      "\n",
      "    rotate\n",
      "\n",
      "\n",
      "Le chargement a nécessité le package : ggpp\n",
      "\n",
      "Registered S3 methods overwritten by 'ggpp':\n",
      "  method                  from   \n",
      "  heightDetails.titleGrob ggplot2\n",
      "  widthDetails.titleGrob  ggplot2\n",
      "\n",
      "\n",
      "Attachement du package : ‘ggpp’\n",
      "\n",
      "\n",
      "L'objet suivant est masqué depuis ‘package:ggplot2’:\n",
      "\n",
      "    annotate\n",
      "\n",
      "\n",
      "Registered S3 method overwritten by 'ggpmisc':\n",
      "  method                  from   \n",
      "  as.character.polynomial polynom\n",
      "\n",
      "\n",
      "Attachement du package : ‘TreeTools’\n",
      "\n",
      "\n",
      "L'objet suivant est masqué depuis ‘package:ggtree’:\n",
      "\n",
      "    MRCA\n",
      "\n",
      "\n",
      "L'objet suivant est masqué depuis ‘package:phytools’:\n",
      "\n",
      "    as.multiPhylo\n",
      "\n",
      "\n"
     ]
    }
   ],
   "source": [
    "library(\"corHMM\")\n",
    "library(\"mclust\")\n",
    "library(\"stringr\")\n",
    "library(\"phytools\")\n",
    "library(\"qpcR\")\n",
    "library(\"secsse\")\n",
    "library(\"ggtree\")\n",
    "library(\"RColorBrewer\")\n",
    "library(\"ggplot2\")\n",
    "library(\"ggpmisc\")\n",
    "library(\"TreeTools\")\n",
    "library(\"deeptime\")"
   ]
  },
  {
   "cell_type": "markdown",
   "metadata": {},
   "source": [
    "### Loading data"
   ]
  },
  {
   "cell_type": "code",
   "execution_count": 2,
   "metadata": {},
   "outputs": [],
   "source": [
    "df<-read.csv(\"Code_P_Muridae.tsv\", sep=\"\\t\", header = TRUE) # omit sep =\"\\t\" for .csv files\n",
    "phy<-read.tree(\"Tree_65_sp_murids.tree\")"
   ]
  },
  {
   "cell_type": "markdown",
   "metadata": {},
   "source": [
    "### Cleaning and preparing data"
   ]
  },
  {
   "cell_type": "code",
   "execution_count": 3,
   "metadata": {},
   "outputs": [],
   "source": [
    "states_traits<-df[,c(1,2)]\n",
    "colnames(states_traits)<-c(\"Species\", \"Cat\")\n",
    "states_traits[is.na(states_traits)]<-\"?\""
   ]
  },
  {
   "cell_type": "markdown",
   "metadata": {},
   "source": [
    "### One rate models"
   ]
  },
  {
   "cell_type": "markdown",
   "metadata": {},
   "source": [
    "### Model 1 : equal rates"
   ]
  },
  {
   "cell_type": "code",
   "execution_count": 4,
   "metadata": {},
   "outputs": [
    {
     "name": "stdout",
     "output_type": "stream",
     "text": [
      "State distribution in data:\n",
      "States:\t1\t1&2\t2\t\n",
      "Counts:\t42\t2\t21\t\n",
      "Beginning thorough optimization search -- performing 0 random restarts \n",
      "Finished. Inferring ancestral states using marginal reconstruction. \n"
     ]
    }
   ],
   "source": [
    "pt_1_eq<-corHMM(phy, states_traits, rate.cat = 1, rate.mat=NULL, model = \"ER\", node.states = \"marginal\",\n",
    "fixed.nodes=FALSE, p=NULL, root.p=\"yang\", ip=NULL, nstarts=0, n.cores=5,\n",
    "get.tip.states = FALSE, lewis.asc.bias = FALSE, collapse = TRUE, lower.bound = 1e-9,\n",
    "upper.bound = 100, opts=NULL)"
   ]
  },
  {
   "cell_type": "markdown",
   "metadata": {},
   "source": [
    "### Model 2 : all rates differ"
   ]
  },
  {
   "cell_type": "code",
   "execution_count": 5,
   "metadata": {
    "scrolled": true
   },
   "outputs": [
    {
     "name": "stdout",
     "output_type": "stream",
     "text": [
      "State distribution in data:\n",
      "States:\t1\t1&2\t2\t\n",
      "Counts:\t42\t2\t21\t\n",
      "Beginning thorough optimization search -- performing 0 random restarts \n",
      "Finished. Inferring ancestral states using marginal reconstruction. \n"
     ]
    }
   ],
   "source": [
    "pt_1_ard<-corHMM(phy, states_traits, rate.cat = 1, rate.mat=NULL, model = \"ARD\", node.states = \"marginal\",\n",
    "fixed.nodes=FALSE, p=NULL, root.p=\"yang\", ip=NULL, nstarts=0, n.cores=5,\n",
    "get.tip.states = FALSE, lewis.asc.bias = FALSE, collapse = TRUE, lower.bound = 1e-9,\n",
    "upper.bound = 100, opts=NULL)"
   ]
  },
  {
   "cell_type": "markdown",
   "metadata": {},
   "source": [
    "### Model 1 : equal rates"
   ]
  },
  {
   "cell_type": "code",
   "execution_count": 6,
   "metadata": {
    "scrolled": true
   },
   "outputs": [
    {
     "name": "stdout",
     "output_type": "stream",
     "text": [
      "State distribution in data:\n",
      "States:\t1\t1&2\t2\t\n",
      "Counts:\t42\t2\t21\t\n",
      "Beginning thorough optimization search -- performing 0 random restarts \n",
      "Finished. Inferring ancestral states using marginal reconstruction. \n"
     ]
    }
   ],
   "source": [
    "pt_2_eq<-corHMM(phy, states_traits, rate.cat = 2, rate.mat=NULL, model = \"ER\", node.states = \"marginal\",\n",
    "fixed.nodes=FALSE, p=NULL, root.p=\"yang\", ip=NULL, nstarts=0, n.cores=5,\n",
    "get.tip.states = FALSE, lewis.asc.bias = FALSE, collapse = TRUE, lower.bound = 1e-9,\n",
    "upper.bound = 100, opts=NULL)"
   ]
  },
  {
   "cell_type": "markdown",
   "metadata": {},
   "source": [
    "### Model 2 : all rates differ"
   ]
  },
  {
   "cell_type": "code",
   "execution_count": 7,
   "metadata": {},
   "outputs": [
    {
     "name": "stdout",
     "output_type": "stream",
     "text": [
      "State distribution in data:\n",
      "States:\t1\t1&2\t2\t\n",
      "Counts:\t42\t2\t21\t\n",
      "Beginning thorough optimization search -- performing 0 random restarts \n",
      "Finished. Inferring ancestral states using marginal reconstruction. \n"
     ]
    }
   ],
   "source": [
    "pt_2_ard<-corHMM(phy, states_traits, rate.cat = 2, rate.mat=NULL, model = \"ARD\", node.states = \"marginal\",\n",
    "fixed.nodes=FALSE, p=NULL, root.p=\"yang\", ip=NULL, nstarts=0, n.cores=5,\n",
    "get.tip.states = FALSE, lewis.asc.bias = FALSE, collapse = TRUE, lower.bound = 1e-9,\n",
    "upper.bound = 100, opts=NULL)"
   ]
  },
  {
   "cell_type": "markdown",
   "metadata": {},
   "source": [
    "### Model 1 : equal rates"
   ]
  },
  {
   "cell_type": "code",
   "execution_count": 8,
   "metadata": {},
   "outputs": [
    {
     "name": "stdout",
     "output_type": "stream",
     "text": [
      "State distribution in data:\n",
      "States:\t1\t1&2\t2\t\n",
      "Counts:\t42\t2\t21\t\n",
      "Beginning thorough optimization search -- performing 0 random restarts \n",
      "Finished. Inferring ancestral states using marginal reconstruction. \n"
     ]
    }
   ],
   "source": [
    "pt_3_eq<-corHMM(phy, states_traits, rate.cat = 3, rate.mat=NULL, model = \"ER\", node.states = \"marginal\",\n",
    "fixed.nodes=FALSE, p=NULL, root.p=\"yang\", ip=NULL, nstarts=0, n.cores=5,\n",
    "get.tip.states = FALSE, lewis.asc.bias = FALSE, collapse = TRUE, lower.bound = 1e-9,\n",
    "upper.bound = 100, opts=NULL)"
   ]
  },
  {
   "cell_type": "markdown",
   "metadata": {},
   "source": [
    "### Model 2 : all rates differ"
   ]
  },
  {
   "cell_type": "code",
   "execution_count": 9,
   "metadata": {},
   "outputs": [
    {
     "name": "stdout",
     "output_type": "stream",
     "text": [
      "State distribution in data:\n",
      "States:\t1\t1&2\t2\t\n",
      "Counts:\t42\t2\t21\t\n",
      "Beginning thorough optimization search -- performing 0 random restarts \n",
      "Finished. Inferring ancestral states using marginal reconstruction. \n"
     ]
    }
   ],
   "source": [
    "pt_3_ard<-corHMM(phy, states_traits, rate.cat = 3, rate.mat=NULL, model = \"ARD\", node.states = \"marginal\",\n",
    "fixed.nodes=FALSE, p=NULL, root.p=\"yang\", ip=NULL, nstarts=0, n.cores=5,\n",
    "get.tip.states = FALSE, lewis.asc.bias = FALSE, collapse = TRUE, lower.bound = 1e-9,\n",
    "upper.bound = 100, opts=NULL)"
   ]
  },
  {
   "cell_type": "code",
   "execution_count": 10,
   "metadata": {},
   "outputs": [],
   "source": [
    "df_trait<-data.frame(cbind(c(pt_1_eq$AICc,  pt_1_ard$AICc,\n",
    "                          pt_2_eq$AICc, pt_2_ard$AICc,\n",
    "                          pt_3_eq$AICc,  pt_3_ard$AICc),\n",
    "                akaike.weights(c(pt_1_eq$AICc, pt_1_ard$AICc,\n",
    "                          pt_2_eq$AICc, pt_2_ard$AICc,\n",
    "                          pt_3_eq$AICc,  pt_3_ard$AICc))$deltaAIC,\n",
    "                akaike.weights(c(pt_1_eq$AICc, pt_1_ard$AICc,\n",
    "                          pt_2_eq$AICc, pt_2_ard$AICc, \n",
    "                          pt_3_eq$AICc, pt_3_ard$AICc))$weights,\n",
    "                c(\n",
    "(max(as.vector(pt_1_eq$index.mat)[!is.na(as.vector(pt_1_eq$index.mat))])), (max(as.vector(pt_1_ard$index.mat)[!is.na(as.vector(pt_1_ard$index.mat))])),\n",
    "(max(as.vector(pt_2_eq$index.mat)[!is.na(as.vector(pt_2_eq$index.mat))])), (max(as.vector(pt_1_ard$index.mat)[!is.na(as.vector(pt_1_ard$index.mat))])),\n",
    "(max(as.vector(pt_3_eq$index.mat)[!is.na(as.vector(pt_3_eq$index.mat))])), (max(as.vector(pt_1_ard$index.mat)[!is.na(as.vector(pt_1_ard$index.mat))])))\n",
    "                ))\n",
    "rownames(df_trait)<-c(\"pt_1_eq\", \"pt_1_ard\",\n",
    "                          \"pt_2_eq\",  \"pt_2_ard\",\n",
    "                          \"pt_3_eq\",  \"pt_3_ard\")\n",
    "colnames(df_trait)<-c(\"AICc\", \"Delta_AICc\", \"AICcWt\", \"K_rates\")\n",
    "write.table(df_trait, \"Model_binary_trait.tsv\", sep =\"\\t\")\n",
    "saveRDS(eval(parse(text = rownames(df_trait)[which.min(df_trait$AICc)])),paste(\"data_BF_PT.rds\", sep =\"\"))"
   ]
  },
  {
   "cell_type": "code",
   "execution_count": 11,
   "metadata": {
    "scrolled": true
   },
   "outputs": [
    {
     "data": {
      "text/html": [
       "<table class=\"dataframe\">\n",
       "<caption>A data.frame: 6 × 4</caption>\n",
       "<thead>\n",
       "\t<tr><th></th><th scope=col>AICc</th><th scope=col>Delta_AICc</th><th scope=col>AICcWt</th><th scope=col>K_rates</th></tr>\n",
       "\t<tr><th></th><th scope=col>&lt;dbl&gt;</th><th scope=col>&lt;dbl&gt;</th><th scope=col>&lt;dbl&gt;</th><th scope=col>&lt;dbl&gt;</th></tr>\n",
       "</thead>\n",
       "<tbody>\n",
       "\t<tr><th scope=row>pt_1_eq</th><td>56.47662</td><td> 0.000000</td><td>6.456967e-01</td><td>1</td></tr>\n",
       "\t<tr><th scope=row>pt_1_ard</th><td>58.41499</td><td> 1.938371</td><td>2.449721e-01</td><td>2</td></tr>\n",
       "\t<tr><th scope=row>pt_2_eq</th><td>60.13118</td><td> 3.654564</td><td>1.038604e-01</td><td>4</td></tr>\n",
       "\t<tr><th scope=row>pt_2_ard</th><td>66.10154</td><td> 9.624921</td><td>5.248117e-03</td><td>2</td></tr>\n",
       "\t<tr><th scope=row>pt_3_eq</th><td>72.43904</td><td>15.962421</td><td>2.207156e-04</td><td>9</td></tr>\n",
       "\t<tr><th scope=row>pt_3_ard</th><td>81.95122</td><td>25.474604</td><td>1.897967e-06</td><td>2</td></tr>\n",
       "</tbody>\n",
       "</table>\n"
      ],
      "text/latex": [
       "A data.frame: 6 × 4\n",
       "\\begin{tabular}{r|llll}\n",
       "  & AICc & Delta\\_AICc & AICcWt & K\\_rates\\\\\n",
       "  & <dbl> & <dbl> & <dbl> & <dbl>\\\\\n",
       "\\hline\n",
       "\tpt\\_1\\_eq & 56.47662 &  0.000000 & 6.456967e-01 & 1\\\\\n",
       "\tpt\\_1\\_ard & 58.41499 &  1.938371 & 2.449721e-01 & 2\\\\\n",
       "\tpt\\_2\\_eq & 60.13118 &  3.654564 & 1.038604e-01 & 4\\\\\n",
       "\tpt\\_2\\_ard & 66.10154 &  9.624921 & 5.248117e-03 & 2\\\\\n",
       "\tpt\\_3\\_eq & 72.43904 & 15.962421 & 2.207156e-04 & 9\\\\\n",
       "\tpt\\_3\\_ard & 81.95122 & 25.474604 & 1.897967e-06 & 2\\\\\n",
       "\\end{tabular}\n"
      ],
      "text/markdown": [
       "\n",
       "A data.frame: 6 × 4\n",
       "\n",
       "| <!--/--> | AICc &lt;dbl&gt; | Delta_AICc &lt;dbl&gt; | AICcWt &lt;dbl&gt; | K_rates &lt;dbl&gt; |\n",
       "|---|---|---|---|---|\n",
       "| pt_1_eq | 56.47662 |  0.000000 | 6.456967e-01 | 1 |\n",
       "| pt_1_ard | 58.41499 |  1.938371 | 2.449721e-01 | 2 |\n",
       "| pt_2_eq | 60.13118 |  3.654564 | 1.038604e-01 | 4 |\n",
       "| pt_2_ard | 66.10154 |  9.624921 | 5.248117e-03 | 2 |\n",
       "| pt_3_eq | 72.43904 | 15.962421 | 2.207156e-04 | 9 |\n",
       "| pt_3_ard | 81.95122 | 25.474604 | 1.897967e-06 | 2 |\n",
       "\n"
      ],
      "text/plain": [
       "         AICc     Delta_AICc AICcWt       K_rates\n",
       "pt_1_eq  56.47662  0.000000  6.456967e-01 1      \n",
       "pt_1_ard 58.41499  1.938371  2.449721e-01 2      \n",
       "pt_2_eq  60.13118  3.654564  1.038604e-01 4      \n",
       "pt_2_ard 66.10154  9.624921  5.248117e-03 2      \n",
       "pt_3_eq  72.43904 15.962421  2.207156e-04 9      \n",
       "pt_3_ard 81.95122 25.474604  1.897967e-06 2      "
      ]
     },
     "metadata": {},
     "output_type": "display_data"
    }
   ],
   "source": [
    "df_trait"
   ]
  },
  {
   "cell_type": "code",
   "execution_count": 12,
   "metadata": {},
   "outputs": [],
   "source": [
    "best_fitting_model<-readRDS(\"data_BF_PT.rds\")"
   ]
  },
  {
   "cell_type": "code",
   "execution_count": 13,
   "metadata": {},
   "outputs": [],
   "source": [
    "df$Genus_species<-gsub(\"_\", \" \", df$Genus_species)"
   ]
  },
  {
   "cell_type": "code",
   "execution_count": 14,
   "metadata": {},
   "outputs": [],
   "source": [
    "for (i in 1:length(df$V1)){\n",
    "    phy$tip.label[phy$tip.label==df$Genus_species[i]]<-df$Prehensility_VF[i]\n",
    "}"
   ]
  },
  {
   "cell_type": "code",
   "execution_count": 15,
   "metadata": {},
   "outputs": [],
   "source": [
    "ASE_plot_maker<-function(phy, trait_model, data_states_model){\n",
    "phylo<-ggtree(phy) +\n",
    "           scale_x_reverse() +\n",
    "           theme_bw() +\n",
    "           theme(panel.border = element_blank(),\n",
    "           legend.key = element_blank(),\n",
    "           axis.ticks = element_blank(),\n",
    "           axis.text.y = element_blank(),\n",
    "           axis.text.x = element_blank(),\n",
    "           panel.grid = element_blank(),\n",
    "           panel.grid.minor = element_blank(), \n",
    "           panel.grid.major = element_blank(),\n",
    "           panel.background = element_blank(),\n",
    "           plot.background = element_rect(fill = \"transparent\",colour = NA))\n",
    "\n",
    "node_states_traits<-trait_model$states\n",
    "\n",
    "### assuming you have no polytomies\n",
    "\n",
    "node_states<-c((length(phy$tip.label)+1):(2*length(phy$tip.label)-1))  \n",
    "\n",
    "nb_states<-length(unique(best_fitting_model$data[,2])[(unique(best_fitting_model$data[,2]))!= \"?\"])\n",
    "node_states_traits_ase<-c()\n",
    "for (i in 1:nb_states){\n",
    "    if(trait_model$rate.cat == 1){\n",
    "        col<-node_states_traits[,i]\n",
    "        node_states_traits_ase<-cbind(node_states_traits_ase, col)\n",
    "    }\n",
    "        if(trait_model$rate.cat == 2){\n",
    "        col<-node_states_traits[,i] + node_states_traits[,i+nb_states] \n",
    "        node_states_traits_ase<-cbind(node_states_traits_ase, col)\n",
    "    }\n",
    "        if(trait_model$rate.cat == 3){\n",
    "        col<-node_states_traits[,i] + node_states_traits[,i+nb_states] + node_states_traits[,i+2*nb_states] \n",
    "        node_states_traits_ase<-cbind(node_states_traits_ase, col)\n",
    "    }\n",
    "}\n",
    "    node_states_traits_ase<-cbind(node_states_traits_ase, node_states)\n",
    "    node_states_traits_ase<-as.data.frame(node_states_traits_ase)\n",
    "    colnames(node_states_traits_ase)<-c(1:nb_states,\"node\")\n",
    "    saveRDS(node_states_traits, \"data_categorical_trait.rds\")\n",
    "    pies <- nodepie(node_states_traits_ase, cols=1:nb_states, color=c(\"#D2B48C\", \"#40826D\", \"Grey\"), alpha=1)\n",
    "    df<-tibble::tibble(node=as.numeric(node_states_traits_ase$node), pies=pies)\n",
    "    phylo_node <- phylo %<+% df\n",
    "    phylo_complete<-phylo_node + geom_plot(data=td_filter(!isTip), mapping=aes(x=x,y=y, label=pies), vp.width=0.03, vp.height=0.03, hjust=0.5, vjust=0.5)\n",
    "    phylo_complete<-phylo_complete %<+% as.data.frame(states_traits)\n",
    "    \n",
    "    ASE_plot<-phylo_complete + geom_tiplab(offset = 0.25, size = 2.5, fontface = 4) + geom_tippoint(data=td_filter(isTip), aes(color=Cat), size=1) + scale_color_manual(values=c(\"Grey\",\"#D2B48C\", \"#40826D\")) + coord_geo(dat = list(\"stages\", \"epochs\", \"periods\"), pos = as.list(rep(\"bottom\", 3)), abbrv = FALSE, height = list(unit(1, \"lines\"), unit(1, \"lines\"), unit(1.5, \"line\")),  size = list(2.5, 2.5, 5), fontface = \"bold\", center_end_labels = TRUE, skip = c(\"Holocene\"), neg = FALSE)\n",
    "ggsave(ASE_plot, filename = \"Ase_plot.pdf\",  bg = \"transparent\", width = 10, height = 10)\n",
    "}"
   ]
  },
  {
   "cell_type": "code",
   "execution_count": 16,
   "metadata": {},
   "outputs": [],
   "source": [
    "ASE_plot_maker(phy, best_fitting_model, states_traits)"
   ]
  }
 ],
 "metadata": {
  "kernelspec": {
   "display_name": "R",
   "language": "R",
   "name": "ir"
  },
  "language_info": {
   "codemirror_mode": "r",
   "file_extension": ".r",
   "mimetype": "text/x-r-source",
   "name": "R",
   "pygments_lexer": "r",
   "version": "4.3.3"
  }
 },
 "nbformat": 4,
 "nbformat_minor": 4
}
