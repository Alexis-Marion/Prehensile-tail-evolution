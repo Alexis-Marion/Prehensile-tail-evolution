{
 "cells": [
  {
   "cell_type": "markdown",
   "metadata": {},
   "source": [
    "# Testing the correlation between discrete traits"
   ]
  },
  {
   "cell_type": "markdown",
   "metadata": {},
   "source": [
    "### Loading library"
   ]
  },
  {
   "cell_type": "code",
   "execution_count": 15,
   "metadata": {
    "scrolled": true
   },
   "outputs": [],
   "source": [
    "library(\"corHMM\")\n",
    "library(\"mclust\")\n",
    "library(\"stringr\")\n",
    "library(\"phytools\")\n",
    "library(\"qpcR\")\n",
    "library(\"ggtree\")\n",
    "library(\"RColorBrewer\")\n",
    "library(\"ggplot2\")\n",
    "library(\"ggpmisc\")\n",
    "library(\"TreeTools\")\n",
    "library(\"deeptime\")"
   ]
  },
  {
   "cell_type": "markdown",
   "metadata": {},
   "source": [
    "### Loading data"
   ]
  },
  {
   "cell_type": "code",
   "execution_count": 16,
   "metadata": {},
   "outputs": [],
   "source": [
    "df<-read.csv(\"data/Code_P_Muridae.tsv\", sep=\"\\t\", header = TRUE)\n",
    "phy<-read.tree(\"data/Tree_65_sp_murids.tree\")"
   ]
  },
  {
   "cell_type": "markdown",
   "metadata": {},
   "source": [
    "### Cleaning and preparing data"
   ]
  },
  {
   "cell_type": "code",
   "execution_count": 17,
   "metadata": {},
   "outputs": [],
   "source": [
    "states_traits<-df[,c(1,2)]\n",
    "colnames(states_traits)<-c(\"Species\", \"Cat\")\n",
    "states_traits[is.na(states_traits)]<-\"?\""
   ]
  },
  {
   "cell_type": "markdown",
   "metadata": {},
   "source": [
    "### One rate models"
   ]
  },
  {
   "cell_type": "markdown",
   "metadata": {},
   "source": [
    "### Model 1 : equal rates"
   ]
  },
  {
   "cell_type": "code",
   "execution_count": 18,
   "metadata": {},
   "outputs": [
    {
     "name": "stdout",
     "output_type": "stream",
     "text": [
      "State distribution in data:\n",
      "States:\t1\t1&2\t2\t\n",
      "Counts:\t42\t2\t21\t\n",
      "Beginning thorough optimization search -- performing 0 random restarts \n",
      "Finished. Inferring ancestral states using marginal reconstruction. \n"
     ]
    }
   ],
   "source": [
    "pt_1_eq<-corHMM(phy, states_traits, rate.cat = 1, rate.mat=NULL, model = \"ER\", node.states = \"marginal\",\n",
    "fixed.nodes=FALSE, p=NULL, root.p=\"yang\", ip=NULL, nstarts=0, n.cores=5,\n",
    "get.tip.states = FALSE, lewis.asc.bias = FALSE, collapse = TRUE, lower.bound = 1e-9,\n",
    "upper.bound = 100, opts=NULL)"
   ]
  },
  {
   "cell_type": "markdown",
   "metadata": {},
   "source": [
    "### Model 2 : all rates differ"
   ]
  },
  {
   "cell_type": "code",
   "execution_count": 5,
   "metadata": {
    "scrolled": true
   },
   "outputs": [
    {
     "name": "stdout",
     "output_type": "stream",
     "text": [
      "State distribution in data:\n",
      "States:\t1\t1&2\t2\t\n",
      "Counts:\t42\t2\t21\t\n",
      "Beginning thorough optimization search -- performing 0 random restarts \n",
      "Finished. Inferring ancestral states using marginal reconstruction. \n"
     ]
    }
   ],
   "source": [
    "pt_1_ard<-corHMM(phy, states_traits, rate.cat = 1, rate.mat=NULL, model = \"ARD\", node.states = \"marginal\",\n",
    "fixed.nodes=FALSE, p=NULL, root.p=\"yang\", ip=NULL, nstarts=0, n.cores=5,\n",
    "get.tip.states = FALSE, lewis.asc.bias = FALSE, collapse = TRUE, lower.bound = 1e-9,\n",
    "upper.bound = 100, opts=NULL)"
   ]
  },
  {
   "cell_type": "markdown",
   "metadata": {},
   "source": [
    "### Model 1 : equal rates"
   ]
  },
  {
   "cell_type": "code",
   "execution_count": 6,
   "metadata": {
    "scrolled": true
   },
   "outputs": [
    {
     "name": "stdout",
     "output_type": "stream",
     "text": [
      "State distribution in data:\n",
      "States:\t1\t1&2\t2\t\n",
      "Counts:\t42\t2\t21\t\n",
      "Beginning thorough optimization search -- performing 0 random restarts \n",
      "Finished. Inferring ancestral states using marginal reconstruction. \n"
     ]
    }
   ],
   "source": [
    "pt_2_eq<-corHMM(phy, states_traits, rate.cat = 2, rate.mat=NULL, model = \"ER\", node.states = \"marginal\",\n",
    "fixed.nodes=FALSE, p=NULL, root.p=\"yang\", ip=NULL, nstarts=0, n.cores=5,\n",
    "get.tip.states = FALSE, lewis.asc.bias = FALSE, collapse = TRUE, lower.bound = 1e-9,\n",
    "upper.bound = 100, opts=NULL)"
   ]
  },
  {
   "cell_type": "markdown",
   "metadata": {},
   "source": [
    "### Model 2 : all rates differ"
   ]
  },
  {
   "cell_type": "code",
   "execution_count": 7,
   "metadata": {},
   "outputs": [
    {
     "name": "stdout",
     "output_type": "stream",
     "text": [
      "State distribution in data:\n",
      "States:\t1\t1&2\t2\t\n",
      "Counts:\t42\t2\t21\t\n",
      "Beginning thorough optimization search -- performing 0 random restarts \n",
      "Finished. Inferring ancestral states using marginal reconstruction. \n"
     ]
    }
   ],
   "source": [
    "pt_2_ard<-corHMM(phy, states_traits, rate.cat = 2, rate.mat=NULL, model = \"ARD\", node.states = \"marginal\",\n",
    "fixed.nodes=FALSE, p=NULL, root.p=\"yang\", ip=NULL, nstarts=0, n.cores=5,\n",
    "get.tip.states = FALSE, lewis.asc.bias = FALSE, collapse = TRUE, lower.bound = 1e-9,\n",
    "upper.bound = 100, opts=NULL)"
   ]
  },
  {
   "cell_type": "markdown",
   "metadata": {},
   "source": [
    "### Model 1 : equal rates"
   ]
  },
  {
   "cell_type": "code",
   "execution_count": 8,
   "metadata": {},
   "outputs": [
    {
     "name": "stdout",
     "output_type": "stream",
     "text": [
      "State distribution in data:\n",
      "States:\t1\t1&2\t2\t\n",
      "Counts:\t42\t2\t21\t\n",
      "Beginning thorough optimization search -- performing 0 random restarts \n",
      "Finished. Inferring ancestral states using marginal reconstruction. \n"
     ]
    }
   ],
   "source": [
    "pt_3_eq<-corHMM(phy, states_traits, rate.cat = 3, rate.mat=NULL, model = \"ER\", node.states = \"marginal\",\n",
    "fixed.nodes=FALSE, p=NULL, root.p=\"yang\", ip=NULL, nstarts=0, n.cores=5,\n",
    "get.tip.states = FALSE, lewis.asc.bias = FALSE, collapse = TRUE, lower.bound = 1e-9,\n",
    "upper.bound = 100, opts=NULL)"
   ]
  },
  {
   "cell_type": "markdown",
   "metadata": {},
   "source": [
    "### Model 2 : all rates differ"
   ]
  },
  {
   "cell_type": "code",
   "execution_count": 30,
   "metadata": {
    "scrolled": false
   },
   "outputs": [
    {
     "name": "stdout",
     "output_type": "stream",
     "text": [
      "State distribution in data:\n",
      "States:\t1\t1&2\t2\t\n",
      "Counts:\t42\t2\t21\t\n",
      "Beginning thorough optimization search -- performing 0 random restarts \n",
      "Finished. Inferring ancestral states using marginal reconstruction. \n"
     ]
    }
   ],
   "source": [
    "pt_3_ard<-corHMM(phy, states_traits, rate.cat = 3, rate.mat=NULL, model = \"ARD\", node.states = \"marginal\",\n",
    "fixed.nodes=FALSE, p=NULL, root.p=\"yang\", ip=NULL, nstarts=0, n.cores=5,\n",
    "get.tip.states = FALSE, lewis.asc.bias = FALSE, collapse = TRUE, lower.bound = 1e-9,\n",
    "upper.bound = 100, opts=NULL)"
   ]
  },
  {
   "cell_type": "markdown",
   "metadata": {},
   "source": [
    "### Model Ranking"
   ]
  },
  {
   "cell_type": "code",
   "execution_count": null,
   "metadata": {},
   "outputs": [],
   "source": [
    "df_trait<-data.frame(cbind(c(pt_1_eq$AICc,  pt_1_ard$AICc,\n",
    "                          pt_2_eq$AICc, pt_2_ard$AICc,\n",
    "                          pt_3_eq$AICc,  pt_3_ard$AICc),\n",
    "                akaike.weights(c(pt_1_eq$AICc, pt_1_ard$AICc,\n",
    "                          pt_2_eq$AICc, pt_2_ard$AICc,\n",
    "                          pt_3_eq$AICc,  pt_3_ard$AICc))$deltaAIC,\n",
    "                akaike.weights(c(pt_1_eq$AICc, pt_1_ard$AICc,\n",
    "                          pt_2_eq$AICc, pt_2_ard$AICc, \n",
    "                          pt_3_eq$AICc, pt_3_ard$AICc))$weights,\n",
    "                c(\n",
    "(max(as.vector(pt_1_eq$index.mat)[!is.na(as.vector(pt_1_eq$index.mat))])), (max(as.vector(pt_1_ard$index.mat)[!is.na(as.vector(pt_1_ard$index.mat))])),\n",
    "(max(as.vector(pt_2_eq$index.mat)[!is.na(as.vector(pt_2_eq$index.mat))])), (max(as.vector(pt_2_ard$index.mat)[!is.na(as.vector(pt_2_ard$index.mat))])),\n",
    "(max(as.vector(pt_3_eq$index.mat)[!is.na(as.vector(pt_3_eq$index.mat))])), (max(as.vector(pt_3_ard$index.mat)[!is.na(as.vector(pt_3_ard$index.mat))])))\n",
    "                ))\n",
    "rownames(df_trait)<-c(\"pt_1_eq\", \"pt_1_ard\",\n",
    "                          \"pt_2_eq\",  \"pt_2_ard\",\n",
    "                          \"pt_3_eq\",  \"pt_3_ard\")\n",
    "colnames(df_trait)<-c(\"AICc\", \"Delta_AICc\", \"AICcWt\", \"K_rates\")\n",
    "write.table(df_trait, \"Model_binary_trait.tsv\", sep =\"\\t\")\n",
    "saveRDS(eval(parse(text = rownames(df_trait)[which.min(df_trait$AICc)])),paste(\"data_BF_PT.rds\", sep =\"\"))"
   ]
  },
  {
   "cell_type": "markdown",
   "metadata": {},
   "source": [
    "## Plotting Ancestral state estimates"
   ]
  },
  {
   "cell_type": "code",
   "execution_count": 10,
   "metadata": {},
   "outputs": [],
   "source": [
    "best_fitting_model<-readRDS(\"data_BF_PT.rds\")"
   ]
  },
  {
   "cell_type": "code",
   "execution_count": 11,
   "metadata": {},
   "outputs": [],
   "source": [
    "df$Genus_species<-gsub(\"_\", \" \", df$Genus_species)"
   ]
  },
  {
   "cell_type": "code",
   "execution_count": 12,
   "metadata": {},
   "outputs": [],
   "source": [
    "for (i in 1:length(df$V1)){\n",
    "    phy$tip.label[phy$tip.label==df$Genus_species[i]]<-df$Prehensility_VF[i]\n",
    "}"
   ]
  },
  {
   "cell_type": "code",
   "execution_count": 13,
   "metadata": {},
   "outputs": [],
   "source": [
    "ASE_plot_maker<-function(phy, trait_model, data_states_model){\n",
    "phylo<-ggtree(phy) +\n",
    "           scale_x_reverse() +\n",
    "           theme_bw() +\n",
    "           theme(panel.border = element_blank(),\n",
    "           legend.key = element_blank(),\n",
    "           axis.ticks = element_blank(),\n",
    "           axis.text.y = element_blank(),\n",
    "           axis.text.x = element_blank(),\n",
    "           panel.grid = element_blank(),\n",
    "           panel.grid.minor = element_blank(), \n",
    "           panel.grid.major = element_blank(),\n",
    "           panel.background = element_blank(),\n",
    "           plot.background = element_rect(fill = \"transparent\",colour = NA))\n",
    "\n",
    "node_states_traits<-trait_model$states\n",
    "\n",
    "### assuming you have no polytomies\n",
    "\n",
    "node_states<-c((length(phy$tip.label)+1):(2*length(phy$tip.label)-1))  \n",
    "\n",
    "nb_states<-length(unique(best_fitting_model$data[,2])[(unique(best_fitting_model$data[,2]))!= \"?\"])\n",
    "node_states_traits_ase<-c()\n",
    "for (i in 1:nb_states){\n",
    "    if(trait_model$rate.cat == 1){\n",
    "        col<-node_states_traits[,i]\n",
    "        node_states_traits_ase<-cbind(node_states_traits_ase, col)\n",
    "    }\n",
    "        if(trait_model$rate.cat == 2){\n",
    "        col<-node_states_traits[,i] + node_states_traits[,i+nb_states] \n",
    "        node_states_traits_ase<-cbind(node_states_traits_ase, col)\n",
    "    }\n",
    "        if(trait_model$rate.cat == 3){\n",
    "        col<-node_states_traits[,i] + node_states_traits[,i+nb_states] + node_states_traits[,i+2*nb_states] \n",
    "        node_states_traits_ase<-cbind(node_states_traits_ase, col)\n",
    "    }\n",
    "}\n",
    "    node_states_traits_ase<-cbind(node_states_traits_ase, node_states)\n",
    "    node_states_traits_ase<-as.data.frame(node_states_traits_ase)\n",
    "    colnames(node_states_traits_ase)<-c(1:nb_states,\"node\")\n",
    "    saveRDS(node_states_traits, \"data_categorical_trait.rds\")\n",
    "    pies <- nodepie(node_states_traits_ase, cols=1:nb_states, color=c(\"#D2B48C\", \"#40826D\", \"Grey\"), alpha=1)\n",
    "    df<-tibble::tibble(node=as.numeric(node_states_traits_ase$node), pies=pies)\n",
    "    phylo_node <- phylo %<+% df\n",
    "    phylo_complete<-phylo_node + geom_plot(data=td_filter(!isTip), mapping=aes(x=x,y=y, label=pies), vp.width=0.03, vp.height=0.03, hjust=0.5, vjust=0.5)\n",
    "    phylo_complete<-phylo_complete %<+% as.data.frame(states_traits)\n",
    "    \n",
    "    ASE_plot<-phylo_complete + geom_tiplab(offset = 0.25, size = 2.5, fontface = 4) + geom_tippoint(data=td_filter(isTip), aes(color=Cat), size=1) + scale_color_manual(values=c(\"Grey\",\"#D2B48C\", \"#40826D\")) + coord_geo(dat = list(\"stages\", \"epochs\", \"periods\"), pos = as.list(rep(\"bottom\", 3)), abbrv = FALSE, height = list(unit(1, \"lines\"), unit(1, \"lines\"), unit(1.5, \"line\")),  size = list(2.5, 2.5, 5), fontface = \"bold\", center_end_labels = TRUE, skip = c(\"Holocene\"), neg = FALSE)\n",
    "ggsave(ASE_plot, filename = \"Ase_plot.pdf\",  bg = \"transparent\", width = 10, height = 10)\n",
    "}"
   ]
  },
  {
   "cell_type": "code",
   "execution_count": 14,
   "metadata": {},
   "outputs": [],
   "source": [
    "ASE_plot_maker(phy, best_fitting_model, states_traits)"
   ]
  }
 ],
 "metadata": {
  "kernelspec": {
   "display_name": "R",
   "language": "R",
   "name": "ir"
  },
  "language_info": {
   "codemirror_mode": "r",
   "file_extension": ".r",
   "mimetype": "text/x-r-source",
   "name": "R",
   "pygments_lexer": "r",
   "version": "4.3.3"
  }
 },
 "nbformat": 4,
 "nbformat_minor": 4
}
